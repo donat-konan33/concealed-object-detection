{
 "cells": [
  {
   "cell_type": "markdown",
   "id": "0a321b3b",
   "metadata": {},
   "source": [
    "# **Model training**\n",
    "We Use ``Yolov8`` becuase of its [best accuracy and speed resolved](https://docs.ultralytics.com/models/yolov8/) object detection issues.\n"
   ]
  },
  {
   "cell_type": "markdown",
   "id": "1a048a39",
   "metadata": {},
   "source": [
    "#### Model training and validation\n",
    "As data has been already split we use it for our model training and validation."
   ]
  },
  {
   "cell_type": "code",
   "execution_count": 1,
   "id": "b0c0a252",
   "metadata": {},
   "outputs": [],
   "source": [
    "# libraries\n",
    "import ultralytics\n",
    "from ultralytics import YOLO\n",
    "from pathlib import Path"
   ]
  },
  {
   "cell_type": "code",
   "execution_count": 2,
   "id": "425be7cd",
   "metadata": {},
   "outputs": [
    {
     "name": "stdout",
     "output_type": "stream",
     "text": [
      "8.3.139\n"
     ]
    }
   ],
   "source": [
    "print(ultralytics.__version__)  # check version"
   ]
  },
  {
   "cell_type": "code",
   "execution_count": null,
   "id": "f23872c6",
   "metadata": {},
   "outputs": [
    {
     "name": "stdout",
     "output_type": "stream",
     "text": [
      "YOLOv8n summary: 129 layers, 3,157,200 parameters, 0 gradients, 8.9 GFLOPs\n"
     ]
    },
    {
     "data": {
      "text/plain": [
       "(129, 3157200, 0, 8.8575488)"
      ]
     },
     "execution_count": 3,
     "metadata": {},
     "output_type": "execute_result"
    }
   ],
   "source": [
    "## PyTorch pretrained *.pt models as well as configuration *.yaml files can be passed to the YOLO() class to create a model instance in python:\n",
    "# define the path to the dataset\n",
    "# Load a pytorch pretrained YOLOv8n model\n",
    "model = YOLO(\"yolov8n.pt\")\n",
    "# Display model information\n",
    "model.info()"
   ]
  },
  {
   "cell_type": "code",
   "execution_count": 4,
   "id": "ec08ec48",
   "metadata": {},
   "outputs": [
    {
     "name": "stdout",
     "output_type": "stream",
     "text": [
      "/home/nokan/code/donat-konan33/ClassificationWithTransferlearning/notebooks\n"
     ]
    }
   ],
   "source": [
    "%%bash\n",
    "pwd"
   ]
  },
  {
   "cell_type": "code",
   "execution_count": 2,
   "id": "50f8825f",
   "metadata": {},
   "outputs": [
    {
     "name": "stdout",
     "output_type": "stream",
     "text": [
      "path: /home/nokan/code/donat-konan33/ConcealedObjectsDetection/data/splits\n",
      "train: train/images\n",
      "val: val/images\n",
      "test: test/images\n",
      "nc: 2 # number of classes\n",
      "names: {0: object, 1: no_object}\n",
      "\n"
     ]
    }
   ],
   "source": [
    "# define the path to the dataset\n",
    "data_path = \"../data/splits/data.yaml\"\n",
    "with open(data_path, \"r\") as f:\n",
    "    data = f.read()\n",
    "    print(data)"
   ]
  },
  {
   "cell_type": "code",
   "execution_count": 6,
   "id": "f848c069",
   "metadata": {},
   "outputs": [
    {
     "name": "stdout",
     "output_type": "stream",
     "text": [
      "Ultralytics 8.3.139 🚀 Python-3.9.20 torch-2.7.0+cu126 CPU (Intel Core(TM) i7-8550U 1.80GHz)\n",
      "\u001b[34m\u001b[1mengine/trainer: \u001b[0magnostic_nms=False, amp=True, augment=False, auto_augment=randaugment, batch=16, bgr=0.0, box=7.5, cache=False, cfg=None, classes=None, close_mosaic=10, cls=0.5, conf=None, copy_paste=0.0, copy_paste_mode=flip, cos_lr=False, cutmix=0.0, data=../data/splits/data.yaml, degrees=0.0, deterministic=True, device=cpu, dfl=1.5, dnn=False, dropout=0.0, dynamic=False, embed=None, epochs=100, erasing=0.4, exist_ok=False, fliplr=0.5, flipud=0.0, format=torchscript, fraction=1.0, freeze=None, half=False, hsv_h=0.015, hsv_s=0.7, hsv_v=0.4, imgsz=640, int8=False, iou=0.7, keras=False, kobj=1.0, line_width=None, lr0=0.01, lrf=0.01, mask_ratio=4, max_det=300, mixup=0.0, mode=train, model=yolov8n.pt, momentum=0.937, mosaic=1.0, multi_scale=False, name=train6, nbs=64, nms=False, opset=None, optimize=False, optimizer=auto, overlap_mask=True, patience=100, perspective=0.0, plots=True, pose=12.0, pretrained=True, profile=False, project=None, rect=False, resume=False, retina_masks=False, save=True, save_conf=False, save_crop=False, save_dir=/home/nokan/code/donat-konan33/ClassificationWithTransferlearning/runs/detect/train6, save_frames=False, save_json=False, save_period=-1, save_txt=False, scale=0.5, seed=0, shear=0.0, show=False, show_boxes=True, show_conf=True, show_labels=True, simplify=True, single_cls=False, source=None, split=val, stream_buffer=False, task=detect, time=None, tracker=botsort.yaml, translate=0.1, val=True, verbose=True, vid_stride=1, visualize=False, warmup_bias_lr=0.1, warmup_epochs=3.0, warmup_momentum=0.8, weight_decay=0.0005, workers=8, workspace=None\n",
      "Overriding model.yaml nc=80 with nc=2\n",
      "\n",
      "                   from  n    params  module                                       arguments                     \n",
      "  0                  -1  1       464  ultralytics.nn.modules.conv.Conv             [3, 16, 3, 2]                 \n",
      "  1                  -1  1      4672  ultralytics.nn.modules.conv.Conv             [16, 32, 3, 2]                \n",
      "  2                  -1  1      7360  ultralytics.nn.modules.block.C2f             [32, 32, 1, True]             \n",
      "  3                  -1  1     18560  ultralytics.nn.modules.conv.Conv             [32, 64, 3, 2]                \n",
      "  4                  -1  2     49664  ultralytics.nn.modules.block.C2f             [64, 64, 2, True]             \n",
      "  5                  -1  1     73984  ultralytics.nn.modules.conv.Conv             [64, 128, 3, 2]               \n",
      "  6                  -1  2    197632  ultralytics.nn.modules.block.C2f             [128, 128, 2, True]           \n",
      "  7                  -1  1    295424  ultralytics.nn.modules.conv.Conv             [128, 256, 3, 2]              \n",
      "  8                  -1  1    460288  ultralytics.nn.modules.block.C2f             [256, 256, 1, True]           \n",
      "  9                  -1  1    164608  ultralytics.nn.modules.block.SPPF            [256, 256, 5]                 \n",
      " 10                  -1  1         0  torch.nn.modules.upsampling.Upsample         [None, 2, 'nearest']          \n",
      " 11             [-1, 6]  1         0  ultralytics.nn.modules.conv.Concat           [1]                           \n",
      " 12                  -1  1    148224  ultralytics.nn.modules.block.C2f             [384, 128, 1]                 \n",
      " 13                  -1  1         0  torch.nn.modules.upsampling.Upsample         [None, 2, 'nearest']          \n",
      " 14             [-1, 4]  1         0  ultralytics.nn.modules.conv.Concat           [1]                           \n",
      " 15                  -1  1     37248  ultralytics.nn.modules.block.C2f             [192, 64, 1]                  \n",
      " 16                  -1  1     36992  ultralytics.nn.modules.conv.Conv             [64, 64, 3, 2]                \n",
      " 17            [-1, 12]  1         0  ultralytics.nn.modules.conv.Concat           [1]                           \n",
      " 18                  -1  1    123648  ultralytics.nn.modules.block.C2f             [192, 128, 1]                 \n",
      " 19                  -1  1    147712  ultralytics.nn.modules.conv.Conv             [128, 128, 3, 2]              \n",
      " 20             [-1, 9]  1         0  ultralytics.nn.modules.conv.Concat           [1]                           \n",
      " 21                  -1  1    493056  ultralytics.nn.modules.block.C2f             [384, 256, 1]                 \n",
      " 22        [15, 18, 21]  1    751702  ultralytics.nn.modules.head.Detect           [2, [64, 128, 256]]           \n",
      "Model summary: 129 layers, 3,011,238 parameters, 3,011,222 gradients, 8.2 GFLOPs\n",
      "\n",
      "Transferred 319/355 items from pretrained weights\n",
      "Freezing layer 'model.22.dfl.conv.weight'\n",
      "\u001b[34m\u001b[1mtrain: \u001b[0mFast image access ✅ (ping: 0.0±0.0 ms, read: 6.1±3.5 MB/s, size: 7.0 KB)\n"
     ]
    },
    {
     "name": "stderr",
     "output_type": "stream",
     "text": [
      "\u001b[34m\u001b[1mtrain: \u001b[0mScanning /home/nokan/code/donat-konan33/ClassificationWithTransferlearning/data/splits/train/labels.cache... 771 images, 0 backgrounds, 0 corrupt: 100%|██████████| 771/771 [00:00<?, ?it/s]"
     ]
    },
    {
     "name": "stdout",
     "output_type": "stream",
     "text": [
      "\u001b[34m\u001b[1mval: \u001b[0mFast image access ✅ (ping: 0.0±0.0 ms, read: 11.0±4.7 MB/s, size: 6.2 KB)\n"
     ]
    },
    {
     "name": "stderr",
     "output_type": "stream",
     "text": [
      "\n",
      "/home/nokan/code/donat-konan33/ClassificationWithTransferlearning/.venv/lib/python3.9/site-packages/torch/utils/data/dataloader.py:665: UserWarning: 'pin_memory' argument is set as true but no accelerator is found, then device pinned memory won't be used.\n",
      "  warnings.warn(warn_msg)\n",
      "\u001b[34m\u001b[1mval: \u001b[0mScanning /home/nokan/code/donat-konan33/ClassificationWithTransferlearning/data/splits/val/labels.cache... 165 images, 0 backgrounds, 0 corrupt: 100%|██████████| 165/165 [00:00<?, ?it/s]\n",
      "/home/nokan/code/donat-konan33/ClassificationWithTransferlearning/.venv/lib/python3.9/site-packages/torch/utils/data/dataloader.py:665: UserWarning: 'pin_memory' argument is set as true but no accelerator is found, then device pinned memory won't be used.\n",
      "  warnings.warn(warn_msg)\n"
     ]
    },
    {
     "name": "stdout",
     "output_type": "stream",
     "text": [
      "Plotting labels to /home/nokan/code/donat-konan33/ClassificationWithTransferlearning/runs/detect/train6/labels.jpg... \n",
      "\u001b[34m\u001b[1moptimizer:\u001b[0m 'optimizer=auto' found, ignoring 'lr0=0.01' and 'momentum=0.937' and determining best 'optimizer', 'lr0' and 'momentum' automatically... \n",
      "\u001b[34m\u001b[1moptimizer:\u001b[0m AdamW(lr=0.001667, momentum=0.9) with parameter groups 57 weight(decay=0.0), 64 weight(decay=0.0005), 63 bias(decay=0.0)\n",
      "Image sizes 640 train, 640 val\n",
      "Using 0 dataloader workers\n",
      "Logging results to \u001b[1m/home/nokan/code/donat-konan33/ClassificationWithTransferlearning/runs/detect/train6\u001b[0m\n",
      "Starting training for 100 epochs...\n",
      "\n",
      "      Epoch    GPU_mem   box_loss   cls_loss   dfl_loss  Instances       Size\n"
     ]
    },
    {
     "name": "stderr",
     "output_type": "stream",
     "text": [
      "      1/100         0G     0.7782       2.23       1.42          9        640: 100%|██████████| 49/49 [05:34<00:00,  6.83s/it]\n",
      "                 Class     Images  Instances      Box(P          R      mAP50  mAP50-95): 100%|██████████| 6/6 [00:29<00:00,  4.89s/it]"
     ]
    },
    {
     "name": "stdout",
     "output_type": "stream",
     "text": [
      "                   all        165        165      0.732       0.25       0.34     0.0395\n"
     ]
    },
    {
     "name": "stderr",
     "output_type": "stream",
     "text": [
      "\n"
     ]
    },
    {
     "name": "stdout",
     "output_type": "stream",
     "text": [
      "\n",
      "      Epoch    GPU_mem   box_loss   cls_loss   dfl_loss  Instances       Size\n"
     ]
    },
    {
     "name": "stderr",
     "output_type": "stream",
     "text": [
      "      2/100         0G      0.481       1.47      1.182          8        640: 100%|██████████| 49/49 [05:06<00:00,  6.26s/it]\n",
      "                 Class     Images  Instances      Box(P          R      mAP50  mAP50-95): 100%|██████████| 6/6 [00:26<00:00,  4.41s/it]"
     ]
    },
    {
     "name": "stdout",
     "output_type": "stream",
     "text": [
      "                   all        165        165       0.54       0.42      0.396      0.284\n"
     ]
    },
    {
     "name": "stderr",
     "output_type": "stream",
     "text": [
      "\n"
     ]
    },
    {
     "name": "stdout",
     "output_type": "stream",
     "text": [
      "\n",
      "      Epoch    GPU_mem   box_loss   cls_loss   dfl_loss  Instances       Size\n"
     ]
    },
    {
     "name": "stderr",
     "output_type": "stream",
     "text": [
      "      3/100         0G     0.4387      1.242      1.127          9        640: 100%|██████████| 49/49 [05:17<00:00,  6.48s/it]\n",
      "                 Class     Images  Instances      Box(P          R      mAP50  mAP50-95): 100%|██████████| 6/6 [00:22<00:00,  3.77s/it]"
     ]
    },
    {
     "name": "stdout",
     "output_type": "stream",
     "text": [
      "                   all        165        165      0.573     0.0329    0.00915    0.00164\n"
     ]
    },
    {
     "name": "stderr",
     "output_type": "stream",
     "text": [
      "\n"
     ]
    },
    {
     "name": "stdout",
     "output_type": "stream",
     "text": [
      "\n",
      "      Epoch    GPU_mem   box_loss   cls_loss   dfl_loss  Instances       Size\n"
     ]
    },
    {
     "name": "stderr",
     "output_type": "stream",
     "text": [
      "      4/100         0G     0.4038      1.114      1.107          9        640: 100%|██████████| 49/49 [04:43<00:00,  5.78s/it]\n",
      "                 Class     Images  Instances      Box(P          R      mAP50  mAP50-95): 100%|██████████| 6/6 [00:26<00:00,  4.49s/it]"
     ]
    },
    {
     "name": "stdout",
     "output_type": "stream",
     "text": [
      "                   all        165        165      0.852      0.847      0.849      0.847\n"
     ]
    },
    {
     "name": "stderr",
     "output_type": "stream",
     "text": [
      "\n"
     ]
    },
    {
     "name": "stdout",
     "output_type": "stream",
     "text": [
      "\n",
      "      Epoch    GPU_mem   box_loss   cls_loss   dfl_loss  Instances       Size\n"
     ]
    },
    {
     "name": "stderr",
     "output_type": "stream",
     "text": [
      "      5/100         0G     0.4114      1.048      1.117         10        640: 100%|██████████| 49/49 [05:04<00:00,  6.20s/it]\n",
      "                 Class     Images  Instances      Box(P          R      mAP50  mAP50-95): 100%|██████████| 6/6 [00:22<00:00,  3.76s/it]"
     ]
    },
    {
     "name": "stdout",
     "output_type": "stream",
     "text": [
      "                   all        165        165      0.852      0.416      0.444      0.288\n"
     ]
    },
    {
     "name": "stderr",
     "output_type": "stream",
     "text": [
      "\n"
     ]
    },
    {
     "name": "stdout",
     "output_type": "stream",
     "text": [
      "\n",
      "      Epoch    GPU_mem   box_loss   cls_loss   dfl_loss  Instances       Size\n"
     ]
    },
    {
     "name": "stderr",
     "output_type": "stream",
     "text": [
      "      6/100         0G     0.3439     0.9376       1.05         12        640: 100%|██████████| 49/49 [04:37<00:00,  5.67s/it]\n",
      "                 Class     Images  Instances      Box(P          R      mAP50  mAP50-95): 100%|██████████| 6/6 [00:21<00:00,  3.64s/it]"
     ]
    },
    {
     "name": "stdout",
     "output_type": "stream",
     "text": [
      "                   all        165        165      0.474      0.304       0.36      0.248\n"
     ]
    },
    {
     "name": "stderr",
     "output_type": "stream",
     "text": [
      "\n"
     ]
    },
    {
     "name": "stdout",
     "output_type": "stream",
     "text": [
      "\n",
      "      Epoch    GPU_mem   box_loss   cls_loss   dfl_loss  Instances       Size\n"
     ]
    },
    {
     "name": "stderr",
     "output_type": "stream",
     "text": [
      "      7/100         0G     0.3063     0.8594      1.031          9        640: 100%|██████████| 49/49 [05:13<00:00,  6.41s/it]\n",
      "                 Class     Images  Instances      Box(P          R      mAP50  mAP50-95): 100%|██████████| 6/6 [00:25<00:00,  4.23s/it]"
     ]
    },
    {
     "name": "stdout",
     "output_type": "stream",
     "text": [
      "                   all        165        165      0.556      0.796      0.678      0.493\n"
     ]
    },
    {
     "name": "stderr",
     "output_type": "stream",
     "text": [
      "\n"
     ]
    },
    {
     "name": "stdout",
     "output_type": "stream",
     "text": [
      "\n",
      "      Epoch    GPU_mem   box_loss   cls_loss   dfl_loss  Instances       Size\n"
     ]
    },
    {
     "name": "stderr",
     "output_type": "stream",
     "text": [
      "      8/100         0G      0.295     0.8457      1.027          8        640: 100%|██████████| 49/49 [04:43<00:00,  5.78s/it]\n",
      "                 Class     Images  Instances      Box(P          R      mAP50  mAP50-95): 100%|██████████| 6/6 [00:23<00:00,  3.88s/it]"
     ]
    },
    {
     "name": "stdout",
     "output_type": "stream",
     "text": [
      "                   all        165        165      0.718      0.611      0.534      0.289\n"
     ]
    },
    {
     "name": "stderr",
     "output_type": "stream",
     "text": [
      "\n"
     ]
    },
    {
     "name": "stdout",
     "output_type": "stream",
     "text": [
      "\n",
      "      Epoch    GPU_mem   box_loss   cls_loss   dfl_loss  Instances       Size\n"
     ]
    },
    {
     "name": "stderr",
     "output_type": "stream",
     "text": [
      "      9/100         0G     0.2974     0.7971      1.039          7        640: 100%|██████████| 49/49 [04:44<00:00,  5.81s/it]\n",
      "                 Class     Images  Instances      Box(P          R      mAP50  mAP50-95): 100%|██████████| 6/6 [00:21<00:00,  3.55s/it]"
     ]
    },
    {
     "name": "stdout",
     "output_type": "stream",
     "text": [
      "                   all        165        165      0.572      0.499      0.309      0.145\n"
     ]
    },
    {
     "name": "stderr",
     "output_type": "stream",
     "text": [
      "\n"
     ]
    },
    {
     "name": "stdout",
     "output_type": "stream",
     "text": [
      "\n",
      "      Epoch    GPU_mem   box_loss   cls_loss   dfl_loss  Instances       Size\n"
     ]
    },
    {
     "name": "stderr",
     "output_type": "stream",
     "text": [
      "     10/100         0G     0.2828     0.7732      1.021          7        640: 100%|██████████| 49/49 [04:55<00:00,  6.03s/it]\n",
      "                 Class     Images  Instances      Box(P          R      mAP50  mAP50-95): 100%|██████████| 6/6 [00:26<00:00,  4.37s/it]"
     ]
    },
    {
     "name": "stdout",
     "output_type": "stream",
     "text": [
      "                   all        165        165      0.466       0.19      0.276      0.255\n"
     ]
    },
    {
     "name": "stderr",
     "output_type": "stream",
     "text": [
      "\n"
     ]
    },
    {
     "name": "stdout",
     "output_type": "stream",
     "text": [
      "\n",
      "      Epoch    GPU_mem   box_loss   cls_loss   dfl_loss  Instances       Size\n"
     ]
    },
    {
     "name": "stderr",
     "output_type": "stream",
     "text": [
      "     11/100         0G     0.2787      0.761      1.025         10        640: 100%|██████████| 49/49 [05:08<00:00,  6.31s/it]\n",
      "                 Class     Images  Instances      Box(P          R      mAP50  mAP50-95): 100%|██████████| 6/6 [00:27<00:00,  4.53s/it]"
     ]
    },
    {
     "name": "stdout",
     "output_type": "stream",
     "text": [
      "                   all        165        165      0.546      0.917      0.746      0.644\n"
     ]
    },
    {
     "name": "stderr",
     "output_type": "stream",
     "text": [
      "\n"
     ]
    },
    {
     "name": "stdout",
     "output_type": "stream",
     "text": [
      "\n",
      "      Epoch    GPU_mem   box_loss   cls_loss   dfl_loss  Instances       Size\n"
     ]
    },
    {
     "name": "stderr",
     "output_type": "stream",
     "text": [
      "     12/100         0G     0.2518      0.714     0.9908         10        640: 100%|██████████| 49/49 [05:10<00:00,  6.33s/it]\n",
      "                 Class     Images  Instances      Box(P          R      mAP50  mAP50-95): 100%|██████████| 6/6 [00:26<00:00,  4.44s/it]"
     ]
    },
    {
     "name": "stdout",
     "output_type": "stream",
     "text": [
      "                   all        165        165      0.744      0.871      0.912      0.911\n"
     ]
    },
    {
     "name": "stderr",
     "output_type": "stream",
     "text": [
      "\n"
     ]
    },
    {
     "name": "stdout",
     "output_type": "stream",
     "text": [
      "\n",
      "      Epoch    GPU_mem   box_loss   cls_loss   dfl_loss  Instances       Size\n"
     ]
    },
    {
     "name": "stderr",
     "output_type": "stream",
     "text": [
      "     13/100         0G     0.2551     0.7348      1.009         10        640: 100%|██████████| 49/49 [04:37<00:00,  5.66s/it]\n",
      "                 Class     Images  Instances      Box(P          R      mAP50  mAP50-95): 100%|██████████| 6/6 [00:20<00:00,  3.47s/it]"
     ]
    },
    {
     "name": "stdout",
     "output_type": "stream",
     "text": [
      "                   all        165        165      0.833      0.885      0.928      0.928\n"
     ]
    },
    {
     "name": "stderr",
     "output_type": "stream",
     "text": [
      "\n"
     ]
    },
    {
     "name": "stdout",
     "output_type": "stream",
     "text": [
      "\n",
      "      Epoch    GPU_mem   box_loss   cls_loss   dfl_loss  Instances       Size\n"
     ]
    },
    {
     "name": "stderr",
     "output_type": "stream",
     "text": [
      "     14/100         0G      0.243     0.7029          1         11        640: 100%|██████████| 49/49 [04:22<00:00,  5.37s/it]\n",
      "                 Class     Images  Instances      Box(P          R      mAP50  mAP50-95): 100%|██████████| 6/6 [00:18<00:00,  3.14s/it]"
     ]
    },
    {
     "name": "stdout",
     "output_type": "stream",
     "text": [
      "                   all        165        165      0.776      0.824      0.844      0.753\n"
     ]
    },
    {
     "name": "stderr",
     "output_type": "stream",
     "text": [
      "\n"
     ]
    },
    {
     "name": "stdout",
     "output_type": "stream",
     "text": [
      "\n",
      "      Epoch    GPU_mem   box_loss   cls_loss   dfl_loss  Instances       Size\n"
     ]
    },
    {
     "name": "stderr",
     "output_type": "stream",
     "text": [
      "     15/100         0G     0.2408     0.7245      1.002          9        640: 100%|██████████| 49/49 [04:12<00:00,  5.15s/it]\n",
      "                 Class     Images  Instances      Box(P          R      mAP50  mAP50-95): 100%|██████████| 6/6 [00:19<00:00,  3.32s/it]"
     ]
    },
    {
     "name": "stdout",
     "output_type": "stream",
     "text": [
      "                   all        165        165      0.326      0.255      0.238      0.211\n"
     ]
    },
    {
     "name": "stderr",
     "output_type": "stream",
     "text": [
      "\n"
     ]
    },
    {
     "name": "stdout",
     "output_type": "stream",
     "text": [
      "\n",
      "      Epoch    GPU_mem   box_loss   cls_loss   dfl_loss  Instances       Size\n"
     ]
    },
    {
     "name": "stderr",
     "output_type": "stream",
     "text": [
      "     16/100         0G     0.2311     0.6753     0.9861         11        640: 100%|██████████| 49/49 [04:12<00:00,  5.15s/it]\n",
      "                 Class     Images  Instances      Box(P          R      mAP50  mAP50-95): 100%|██████████| 6/6 [00:19<00:00,  3.21s/it]"
     ]
    },
    {
     "name": "stdout",
     "output_type": "stream",
     "text": [
      "                   all        165        165      0.804      0.822      0.883      0.882\n"
     ]
    },
    {
     "name": "stderr",
     "output_type": "stream",
     "text": [
      "\n"
     ]
    },
    {
     "name": "stdout",
     "output_type": "stream",
     "text": [
      "\n",
      "      Epoch    GPU_mem   box_loss   cls_loss   dfl_loss  Instances       Size\n"
     ]
    },
    {
     "name": "stderr",
     "output_type": "stream",
     "text": [
      "     17/100         0G     0.2295     0.6767     0.9842         10        640: 100%|██████████| 49/49 [04:23<00:00,  5.37s/it]\n",
      "                 Class     Images  Instances      Box(P          R      mAP50  mAP50-95): 100%|██████████| 6/6 [00:20<00:00,  3.49s/it]"
     ]
    },
    {
     "name": "stdout",
     "output_type": "stream",
     "text": [
      "                   all        165        165      0.703      0.582      0.761      0.496\n"
     ]
    },
    {
     "name": "stderr",
     "output_type": "stream",
     "text": [
      "\n"
     ]
    },
    {
     "name": "stdout",
     "output_type": "stream",
     "text": [
      "\n",
      "      Epoch    GPU_mem   box_loss   cls_loss   dfl_loss  Instances       Size\n"
     ]
    },
    {
     "name": "stderr",
     "output_type": "stream",
     "text": [
      "     18/100         0G     0.2235     0.6763     0.9851         11        640: 100%|██████████| 49/49 [04:15<00:00,  5.22s/it]\n",
      "                 Class     Images  Instances      Box(P          R      mAP50  mAP50-95): 100%|██████████| 6/6 [00:20<00:00,  3.44s/it]"
     ]
    },
    {
     "name": "stdout",
     "output_type": "stream",
     "text": [
      "                   all        165        165      0.779      0.909      0.898      0.892\n"
     ]
    },
    {
     "name": "stderr",
     "output_type": "stream",
     "text": [
      "\n"
     ]
    },
    {
     "name": "stdout",
     "output_type": "stream",
     "text": [
      "\n",
      "      Epoch    GPU_mem   box_loss   cls_loss   dfl_loss  Instances       Size\n"
     ]
    },
    {
     "name": "stderr",
     "output_type": "stream",
     "text": [
      "     19/100         0G      0.225     0.6506     0.9828         10        640: 100%|██████████| 49/49 [04:11<00:00,  5.13s/it]\n",
      "                 Class     Images  Instances      Box(P          R      mAP50  mAP50-95): 100%|██████████| 6/6 [00:20<00:00,  3.48s/it]"
     ]
    },
    {
     "name": "stdout",
     "output_type": "stream",
     "text": [
      "                   all        165        165      0.727      0.888      0.922      0.921\n"
     ]
    },
    {
     "name": "stderr",
     "output_type": "stream",
     "text": [
      "\n"
     ]
    },
    {
     "name": "stdout",
     "output_type": "stream",
     "text": [
      "\n",
      "      Epoch    GPU_mem   box_loss   cls_loss   dfl_loss  Instances       Size\n"
     ]
    },
    {
     "name": "stderr",
     "output_type": "stream",
     "text": [
      "     20/100         0G     0.2098     0.6491     0.9773         12        640: 100%|██████████| 49/49 [04:11<00:00,  5.14s/it]\n",
      "                 Class     Images  Instances      Box(P          R      mAP50  mAP50-95): 100%|██████████| 6/6 [00:20<00:00,  3.50s/it]"
     ]
    },
    {
     "name": "stdout",
     "output_type": "stream",
     "text": [
      "                   all        165        165      0.676      0.799      0.863      0.834\n"
     ]
    },
    {
     "name": "stderr",
     "output_type": "stream",
     "text": [
      "\n"
     ]
    },
    {
     "name": "stdout",
     "output_type": "stream",
     "text": [
      "\n",
      "      Epoch    GPU_mem   box_loss   cls_loss   dfl_loss  Instances       Size\n"
     ]
    },
    {
     "name": "stderr",
     "output_type": "stream",
     "text": [
      "     21/100         0G     0.1967     0.6104     0.9607         10        640: 100%|██████████| 49/49 [04:11<00:00,  5.13s/it]\n",
      "                 Class     Images  Instances      Box(P          R      mAP50  mAP50-95): 100%|██████████| 6/6 [00:20<00:00,  3.41s/it]"
     ]
    },
    {
     "name": "stdout",
     "output_type": "stream",
     "text": [
      "                   all        165        165      0.603      0.916      0.899      0.899\n"
     ]
    },
    {
     "name": "stderr",
     "output_type": "stream",
     "text": [
      "\n"
     ]
    },
    {
     "name": "stdout",
     "output_type": "stream",
     "text": [
      "\n",
      "      Epoch    GPU_mem   box_loss   cls_loss   dfl_loss  Instances       Size\n"
     ]
    },
    {
     "name": "stderr",
     "output_type": "stream",
     "text": [
      "     22/100         0G     0.2033     0.6257     0.9708         10        640: 100%|██████████| 49/49 [04:13<00:00,  5.17s/it]\n",
      "                 Class     Images  Instances      Box(P          R      mAP50  mAP50-95): 100%|██████████| 6/6 [00:19<00:00,  3.22s/it]"
     ]
    },
    {
     "name": "stdout",
     "output_type": "stream",
     "text": [
      "                   all        165        165      0.664      0.591      0.631      0.611\n"
     ]
    },
    {
     "name": "stderr",
     "output_type": "stream",
     "text": [
      "\n"
     ]
    },
    {
     "name": "stdout",
     "output_type": "stream",
     "text": [
      "\n",
      "      Epoch    GPU_mem   box_loss   cls_loss   dfl_loss  Instances       Size\n"
     ]
    },
    {
     "name": "stderr",
     "output_type": "stream",
     "text": [
      "     23/100         0G     0.2078     0.6062      0.967          9        640: 100%|██████████| 49/49 [04:30<00:00,  5.53s/it]\n",
      "                 Class     Images  Instances      Box(P          R      mAP50  mAP50-95): 100%|██████████| 6/6 [00:20<00:00,  3.46s/it]"
     ]
    },
    {
     "name": "stdout",
     "output_type": "stream",
     "text": [
      "                   all        165        165      0.802       0.62      0.715      0.636\n"
     ]
    },
    {
     "name": "stderr",
     "output_type": "stream",
     "text": [
      "\n"
     ]
    },
    {
     "name": "stdout",
     "output_type": "stream",
     "text": [
      "\n",
      "      Epoch    GPU_mem   box_loss   cls_loss   dfl_loss  Instances       Size\n"
     ]
    },
    {
     "name": "stderr",
     "output_type": "stream",
     "text": [
      "     24/100         0G     0.1922     0.6258     0.9532         10        640: 100%|██████████| 49/49 [04:13<00:00,  5.17s/it]\n",
      "                 Class     Images  Instances      Box(P          R      mAP50  mAP50-95): 100%|██████████| 6/6 [00:20<00:00,  3.48s/it]"
     ]
    },
    {
     "name": "stdout",
     "output_type": "stream",
     "text": [
      "                   all        165        165      0.782       0.88      0.972      0.972\n"
     ]
    },
    {
     "name": "stderr",
     "output_type": "stream",
     "text": [
      "\n"
     ]
    },
    {
     "name": "stdout",
     "output_type": "stream",
     "text": [
      "\n",
      "      Epoch    GPU_mem   box_loss   cls_loss   dfl_loss  Instances       Size\n"
     ]
    },
    {
     "name": "stderr",
     "output_type": "stream",
     "text": [
      "     25/100         0G     0.1834      0.573      0.957         10        640: 100%|██████████| 49/49 [04:14<00:00,  5.18s/it]\n",
      "                 Class     Images  Instances      Box(P          R      mAP50  mAP50-95): 100%|██████████| 6/6 [00:20<00:00,  3.40s/it]"
     ]
    },
    {
     "name": "stdout",
     "output_type": "stream",
     "text": [
      "                   all        165        165      0.912      0.943      0.977      0.977\n"
     ]
    },
    {
     "name": "stderr",
     "output_type": "stream",
     "text": [
      "\n"
     ]
    },
    {
     "name": "stdout",
     "output_type": "stream",
     "text": [
      "\n",
      "      Epoch    GPU_mem   box_loss   cls_loss   dfl_loss  Instances       Size\n"
     ]
    },
    {
     "name": "stderr",
     "output_type": "stream",
     "text": [
      "     26/100         0G     0.1782     0.5929      0.949          8        640: 100%|██████████| 49/49 [04:13<00:00,  5.17s/it]\n",
      "                 Class     Images  Instances      Box(P          R      mAP50  mAP50-95): 100%|██████████| 6/6 [00:19<00:00,  3.22s/it]"
     ]
    },
    {
     "name": "stdout",
     "output_type": "stream",
     "text": [
      "                   all        165        165      0.898      0.887      0.958      0.956\n"
     ]
    },
    {
     "name": "stderr",
     "output_type": "stream",
     "text": [
      "\n"
     ]
    },
    {
     "name": "stdout",
     "output_type": "stream",
     "text": [
      "\n",
      "      Epoch    GPU_mem   box_loss   cls_loss   dfl_loss  Instances       Size\n"
     ]
    },
    {
     "name": "stderr",
     "output_type": "stream",
     "text": [
      "     27/100         0G     0.1722     0.5749     0.9386          9        640: 100%|██████████| 49/49 [04:28<00:00,  5.48s/it]\n",
      "                 Class     Images  Instances      Box(P          R      mAP50  mAP50-95): 100%|██████████| 6/6 [00:21<00:00,  3.62s/it]"
     ]
    },
    {
     "name": "stdout",
     "output_type": "stream",
     "text": [
      "                   all        165        165      0.908      0.958      0.977      0.969\n"
     ]
    },
    {
     "name": "stderr",
     "output_type": "stream",
     "text": [
      "\n"
     ]
    },
    {
     "name": "stdout",
     "output_type": "stream",
     "text": [
      "\n",
      "      Epoch    GPU_mem   box_loss   cls_loss   dfl_loss  Instances       Size\n"
     ]
    },
    {
     "name": "stderr",
     "output_type": "stream",
     "text": [
      "     28/100         0G     0.1812     0.6066     0.9544         10        640: 100%|██████████| 49/49 [04:15<00:00,  5.22s/it]\n",
      "                 Class     Images  Instances      Box(P          R      mAP50  mAP50-95): 100%|██████████| 6/6 [00:19<00:00,  3.18s/it]"
     ]
    },
    {
     "name": "stdout",
     "output_type": "stream",
     "text": [
      "                   all        165        165      0.503      0.998      0.709      0.709\n"
     ]
    },
    {
     "name": "stderr",
     "output_type": "stream",
     "text": [
      "\n"
     ]
    },
    {
     "name": "stdout",
     "output_type": "stream",
     "text": [
      "\n",
      "      Epoch    GPU_mem   box_loss   cls_loss   dfl_loss  Instances       Size\n"
     ]
    },
    {
     "name": "stderr",
     "output_type": "stream",
     "text": [
      "     29/100         0G     0.1714      0.581     0.9548         11        640: 100%|██████████| 49/49 [04:15<00:00,  5.22s/it]\n",
      "                 Class     Images  Instances      Box(P          R      mAP50  mAP50-95): 100%|██████████| 6/6 [00:20<00:00,  3.37s/it]"
     ]
    },
    {
     "name": "stdout",
     "output_type": "stream",
     "text": [
      "                   all        165        165      0.604      0.657      0.574      0.544\n"
     ]
    },
    {
     "name": "stderr",
     "output_type": "stream",
     "text": [
      "\n"
     ]
    },
    {
     "name": "stdout",
     "output_type": "stream",
     "text": [
      "\n",
      "      Epoch    GPU_mem   box_loss   cls_loss   dfl_loss  Instances       Size\n"
     ]
    },
    {
     "name": "stderr",
     "output_type": "stream",
     "text": [
      "     30/100         0G     0.1739     0.5682     0.9523          8        640: 100%|██████████| 49/49 [04:13<00:00,  5.18s/it]\n",
      "                 Class     Images  Instances      Box(P          R      mAP50  mAP50-95): 100%|██████████| 6/6 [00:20<00:00,  3.45s/it]"
     ]
    },
    {
     "name": "stdout",
     "output_type": "stream",
     "text": [
      "                   all        165        165      0.768      0.702      0.841       0.83\n"
     ]
    },
    {
     "name": "stderr",
     "output_type": "stream",
     "text": [
      "\n"
     ]
    },
    {
     "name": "stdout",
     "output_type": "stream",
     "text": [
      "\n",
      "      Epoch    GPU_mem   box_loss   cls_loss   dfl_loss  Instances       Size\n"
     ]
    },
    {
     "name": "stderr",
     "output_type": "stream",
     "text": [
      "     31/100         0G     0.1616     0.5561     0.9429          8        640: 100%|██████████| 49/49 [04:12<00:00,  5.15s/it]\n",
      "                 Class     Images  Instances      Box(P          R      mAP50  mAP50-95): 100%|██████████| 6/6 [00:20<00:00,  3.48s/it]"
     ]
    },
    {
     "name": "stdout",
     "output_type": "stream",
     "text": [
      "                   all        165        165      0.447      0.325      0.291       0.24\n"
     ]
    },
    {
     "name": "stderr",
     "output_type": "stream",
     "text": [
      "\n"
     ]
    },
    {
     "name": "stdout",
     "output_type": "stream",
     "text": [
      "\n",
      "      Epoch    GPU_mem   box_loss   cls_loss   dfl_loss  Instances       Size\n"
     ]
    },
    {
     "name": "stderr",
     "output_type": "stream",
     "text": [
      "     32/100         0G     0.1626     0.5537      0.941          9        640: 100%|██████████| 49/49 [04:14<00:00,  5.19s/it]\n",
      "                 Class     Images  Instances      Box(P          R      mAP50  mAP50-95): 100%|██████████| 6/6 [00:21<00:00,  3.54s/it]"
     ]
    },
    {
     "name": "stdout",
     "output_type": "stream",
     "text": [
      "                   all        165        165       0.79       0.63      0.779      0.778\n"
     ]
    },
    {
     "name": "stderr",
     "output_type": "stream",
     "text": [
      "\n"
     ]
    },
    {
     "name": "stdout",
     "output_type": "stream",
     "text": [
      "\n",
      "      Epoch    GPU_mem   box_loss   cls_loss   dfl_loss  Instances       Size\n"
     ]
    },
    {
     "name": "stderr",
     "output_type": "stream",
     "text": [
      "     33/100         0G     0.1644     0.5506      0.937          8        640: 100%|██████████| 49/49 [04:07<00:00,  5.05s/it]\n",
      "                 Class     Images  Instances      Box(P          R      mAP50  mAP50-95): 100%|██████████| 6/6 [00:20<00:00,  3.41s/it]"
     ]
    },
    {
     "name": "stdout",
     "output_type": "stream",
     "text": [
      "                   all        165        165      0.933       0.95      0.985      0.984\n"
     ]
    },
    {
     "name": "stderr",
     "output_type": "stream",
     "text": [
      "\n"
     ]
    },
    {
     "name": "stdout",
     "output_type": "stream",
     "text": [
      "\n",
      "      Epoch    GPU_mem   box_loss   cls_loss   dfl_loss  Instances       Size\n"
     ]
    },
    {
     "name": "stderr",
     "output_type": "stream",
     "text": [
      "     34/100         0G      0.166     0.5484      0.942         10        640: 100%|██████████| 49/49 [04:08<00:00,  5.08s/it]\n",
      "                 Class     Images  Instances      Box(P          R      mAP50  mAP50-95): 100%|██████████| 6/6 [00:20<00:00,  3.41s/it]"
     ]
    },
    {
     "name": "stdout",
     "output_type": "stream",
     "text": [
      "                   all        165        165      0.848      0.923      0.957      0.941\n"
     ]
    },
    {
     "name": "stderr",
     "output_type": "stream",
     "text": [
      "\n"
     ]
    },
    {
     "name": "stdout",
     "output_type": "stream",
     "text": [
      "\n",
      "      Epoch    GPU_mem   box_loss   cls_loss   dfl_loss  Instances       Size\n"
     ]
    },
    {
     "name": "stderr",
     "output_type": "stream",
     "text": [
      "     35/100         0G     0.1705     0.5586     0.9386          9        640: 100%|██████████| 49/49 [04:46<00:00,  5.85s/it]\n",
      "                 Class     Images  Instances      Box(P          R      mAP50  mAP50-95): 100%|██████████| 6/6 [00:22<00:00,  3.81s/it]"
     ]
    },
    {
     "name": "stdout",
     "output_type": "stream",
     "text": [
      "                   all        165        165      0.872      0.939      0.977      0.972\n"
     ]
    },
    {
     "name": "stderr",
     "output_type": "stream",
     "text": [
      "\n"
     ]
    },
    {
     "name": "stdout",
     "output_type": "stream",
     "text": [
      "\n",
      "      Epoch    GPU_mem   box_loss   cls_loss   dfl_loss  Instances       Size\n"
     ]
    },
    {
     "name": "stderr",
     "output_type": "stream",
     "text": [
      "     36/100         0G     0.1572     0.5388     0.9435         12        640: 100%|██████████| 49/49 [04:30<00:00,  5.52s/it]\n",
      "                 Class     Images  Instances      Box(P          R      mAP50  mAP50-95): 100%|██████████| 6/6 [00:22<00:00,  3.80s/it]"
     ]
    },
    {
     "name": "stdout",
     "output_type": "stream",
     "text": [
      "                   all        165        165      0.783       0.94      0.978      0.974\n"
     ]
    },
    {
     "name": "stderr",
     "output_type": "stream",
     "text": [
      "\n"
     ]
    },
    {
     "name": "stdout",
     "output_type": "stream",
     "text": [
      "\n",
      "      Epoch    GPU_mem   box_loss   cls_loss   dfl_loss  Instances       Size\n"
     ]
    },
    {
     "name": "stderr",
     "output_type": "stream",
     "text": [
      "     37/100         0G     0.1663     0.5612     0.9474          7        640: 100%|██████████| 49/49 [04:30<00:00,  5.52s/it]\n",
      "                 Class     Images  Instances      Box(P          R      mAP50  mAP50-95): 100%|██████████| 6/6 [00:22<00:00,  3.70s/it]"
     ]
    },
    {
     "name": "stdout",
     "output_type": "stream",
     "text": [
      "                   all        165        165      0.857      0.857      0.919      0.881\n"
     ]
    },
    {
     "name": "stderr",
     "output_type": "stream",
     "text": [
      "\n"
     ]
    },
    {
     "name": "stdout",
     "output_type": "stream",
     "text": [
      "\n",
      "      Epoch    GPU_mem   box_loss   cls_loss   dfl_loss  Instances       Size\n"
     ]
    },
    {
     "name": "stderr",
     "output_type": "stream",
     "text": [
      "     38/100         0G     0.1516     0.5168     0.9332          8        640: 100%|██████████| 49/49 [04:42<00:00,  5.77s/it]\n",
      "                 Class     Images  Instances      Box(P          R      mAP50  mAP50-95): 100%|██████████| 6/6 [00:22<00:00,  3.71s/it]"
     ]
    },
    {
     "name": "stdout",
     "output_type": "stream",
     "text": [
      "                   all        165        165      0.687      0.842      0.805      0.796\n"
     ]
    },
    {
     "name": "stderr",
     "output_type": "stream",
     "text": [
      "\n"
     ]
    },
    {
     "name": "stdout",
     "output_type": "stream",
     "text": [
      "\n",
      "      Epoch    GPU_mem   box_loss   cls_loss   dfl_loss  Instances       Size\n"
     ]
    },
    {
     "name": "stderr",
     "output_type": "stream",
     "text": [
      "     39/100         0G     0.1456     0.5256     0.9395         11        640: 100%|██████████| 49/49 [04:31<00:00,  5.54s/it]\n",
      "                 Class     Images  Instances      Box(P          R      mAP50  mAP50-95): 100%|██████████| 6/6 [00:22<00:00,  3.69s/it]"
     ]
    },
    {
     "name": "stdout",
     "output_type": "stream",
     "text": [
      "                   all        165        165      0.652      0.741       0.64      0.582\n"
     ]
    },
    {
     "name": "stderr",
     "output_type": "stream",
     "text": [
      "\n"
     ]
    },
    {
     "name": "stdout",
     "output_type": "stream",
     "text": [
      "\n",
      "      Epoch    GPU_mem   box_loss   cls_loss   dfl_loss  Instances       Size\n"
     ]
    },
    {
     "name": "stderr",
     "output_type": "stream",
     "text": [
      "     40/100         0G     0.1442     0.5434     0.9328          9        640: 100%|██████████| 49/49 [04:36<00:00,  5.64s/it]\n",
      "                 Class     Images  Instances      Box(P          R      mAP50  mAP50-95): 100%|██████████| 6/6 [00:20<00:00,  3.40s/it]"
     ]
    },
    {
     "name": "stdout",
     "output_type": "stream",
     "text": [
      "                   all        165        165      0.787      0.813      0.936      0.932\n"
     ]
    },
    {
     "name": "stderr",
     "output_type": "stream",
     "text": [
      "\n"
     ]
    },
    {
     "name": "stdout",
     "output_type": "stream",
     "text": [
      "\n",
      "      Epoch    GPU_mem   box_loss   cls_loss   dfl_loss  Instances       Size\n"
     ]
    },
    {
     "name": "stderr",
     "output_type": "stream",
     "text": [
      "     41/100         0G     0.1431     0.5289      0.923         12        640: 100%|██████████| 49/49 [04:30<00:00,  5.52s/it]\n",
      "                 Class     Images  Instances      Box(P          R      mAP50  mAP50-95): 100%|██████████| 6/6 [00:22<00:00,  3.67s/it]"
     ]
    },
    {
     "name": "stdout",
     "output_type": "stream",
     "text": [
      "                   all        165        165      0.861      0.939      0.984      0.984\n"
     ]
    },
    {
     "name": "stderr",
     "output_type": "stream",
     "text": [
      "\n"
     ]
    },
    {
     "name": "stdout",
     "output_type": "stream",
     "text": [
      "\n",
      "      Epoch    GPU_mem   box_loss   cls_loss   dfl_loss  Instances       Size\n"
     ]
    },
    {
     "name": "stderr",
     "output_type": "stream",
     "text": [
      "     42/100         0G     0.1394       0.49     0.9324          7        640: 100%|██████████| 49/49 [04:33<00:00,  5.58s/it]\n",
      "                 Class     Images  Instances      Box(P          R      mAP50  mAP50-95): 100%|██████████| 6/6 [00:22<00:00,  3.73s/it]"
     ]
    },
    {
     "name": "stdout",
     "output_type": "stream",
     "text": [
      "                   all        165        165      0.746      0.918      0.907      0.901\n"
     ]
    },
    {
     "name": "stderr",
     "output_type": "stream",
     "text": [
      "\n"
     ]
    },
    {
     "name": "stdout",
     "output_type": "stream",
     "text": [
      "\n",
      "      Epoch    GPU_mem   box_loss   cls_loss   dfl_loss  Instances       Size\n"
     ]
    },
    {
     "name": "stderr",
     "output_type": "stream",
     "text": [
      "     43/100         0G     0.1448     0.5348     0.9366          6        640: 100%|██████████| 49/49 [04:32<00:00,  5.56s/it]\n",
      "                 Class     Images  Instances      Box(P          R      mAP50  mAP50-95): 100%|██████████| 6/6 [00:20<00:00,  3.47s/it]"
     ]
    },
    {
     "name": "stdout",
     "output_type": "stream",
     "text": [
      "                   all        165        165      0.749      0.742      0.731      0.724\n"
     ]
    },
    {
     "name": "stderr",
     "output_type": "stream",
     "text": [
      "\n"
     ]
    },
    {
     "name": "stdout",
     "output_type": "stream",
     "text": [
      "\n",
      "      Epoch    GPU_mem   box_loss   cls_loss   dfl_loss  Instances       Size\n"
     ]
    },
    {
     "name": "stderr",
     "output_type": "stream",
     "text": [
      "     44/100         0G     0.1335     0.5085     0.9322          8        640: 100%|██████████| 49/49 [04:35<00:00,  5.62s/it]\n",
      "                 Class     Images  Instances      Box(P          R      mAP50  mAP50-95): 100%|██████████| 6/6 [00:20<00:00,  3.48s/it]"
     ]
    },
    {
     "name": "stdout",
     "output_type": "stream",
     "text": [
      "                   all        165        165      0.778        0.9      0.914      0.888\n"
     ]
    },
    {
     "name": "stderr",
     "output_type": "stream",
     "text": [
      "\n"
     ]
    },
    {
     "name": "stdout",
     "output_type": "stream",
     "text": [
      "\n",
      "      Epoch    GPU_mem   box_loss   cls_loss   dfl_loss  Instances       Size\n"
     ]
    },
    {
     "name": "stderr",
     "output_type": "stream",
     "text": [
      "     45/100         0G     0.1477     0.5225      0.947          9        640: 100%|██████████| 49/49 [04:30<00:00,  5.52s/it]\n",
      "                 Class     Images  Instances      Box(P          R      mAP50  mAP50-95): 100%|██████████| 6/6 [00:21<00:00,  3.65s/it]"
     ]
    },
    {
     "name": "stdout",
     "output_type": "stream",
     "text": [
      "                   all        165        165      0.566      0.839      0.787      0.787\n"
     ]
    },
    {
     "name": "stderr",
     "output_type": "stream",
     "text": [
      "\n"
     ]
    },
    {
     "name": "stdout",
     "output_type": "stream",
     "text": [
      "\n",
      "      Epoch    GPU_mem   box_loss   cls_loss   dfl_loss  Instances       Size\n"
     ]
    },
    {
     "name": "stderr",
     "output_type": "stream",
     "text": [
      "     46/100         0G     0.1331     0.4927     0.9222          7        640: 100%|██████████| 49/49 [04:40<00:00,  5.72s/it]\n",
      "                 Class     Images  Instances      Box(P          R      mAP50  mAP50-95): 100%|██████████| 6/6 [00:22<00:00,  3.75s/it]"
     ]
    },
    {
     "name": "stdout",
     "output_type": "stream",
     "text": [
      "                   all        165        165      0.813      0.873      0.865      0.865\n"
     ]
    },
    {
     "name": "stderr",
     "output_type": "stream",
     "text": [
      "\n"
     ]
    },
    {
     "name": "stdout",
     "output_type": "stream",
     "text": [
      "\n",
      "      Epoch    GPU_mem   box_loss   cls_loss   dfl_loss  Instances       Size\n"
     ]
    },
    {
     "name": "stderr",
     "output_type": "stream",
     "text": [
      "     47/100         0G      0.132     0.4757     0.9259         12        640: 100%|██████████| 49/49 [04:50<00:00,  5.94s/it]\n",
      "                 Class     Images  Instances      Box(P          R      mAP50  mAP50-95): 100%|██████████| 6/6 [00:21<00:00,  3.57s/it]"
     ]
    },
    {
     "name": "stdout",
     "output_type": "stream",
     "text": [
      "                   all        165        165      0.792      0.941      0.964      0.952\n"
     ]
    },
    {
     "name": "stderr",
     "output_type": "stream",
     "text": [
      "\n"
     ]
    },
    {
     "name": "stdout",
     "output_type": "stream",
     "text": [
      "\n",
      "      Epoch    GPU_mem   box_loss   cls_loss   dfl_loss  Instances       Size\n"
     ]
    },
    {
     "name": "stderr",
     "output_type": "stream",
     "text": [
      "     48/100         0G     0.1368     0.5243       0.94          8        640: 100%|██████████| 49/49 [04:38<00:00,  5.69s/it]\n",
      "                 Class     Images  Instances      Box(P          R      mAP50  mAP50-95): 100%|██████████| 6/6 [00:22<00:00,  3.75s/it]"
     ]
    },
    {
     "name": "stdout",
     "output_type": "stream",
     "text": [
      "                   all        165        165      0.788      0.787      0.805      0.805\n"
     ]
    },
    {
     "name": "stderr",
     "output_type": "stream",
     "text": [
      "\n"
     ]
    },
    {
     "name": "stdout",
     "output_type": "stream",
     "text": [
      "\n",
      "      Epoch    GPU_mem   box_loss   cls_loss   dfl_loss  Instances       Size\n"
     ]
    },
    {
     "name": "stderr",
     "output_type": "stream",
     "text": [
      "     49/100         0G      0.139     0.4887      0.934         10        640: 100%|██████████| 49/49 [04:35<00:00,  5.62s/it]\n",
      "                 Class     Images  Instances      Box(P          R      mAP50  mAP50-95): 100%|██████████| 6/6 [00:22<00:00,  3.79s/it]"
     ]
    },
    {
     "name": "stdout",
     "output_type": "stream",
     "text": [
      "                   all        165        165      0.787      0.781      0.959      0.959\n"
     ]
    },
    {
     "name": "stderr",
     "output_type": "stream",
     "text": [
      "\n"
     ]
    },
    {
     "name": "stdout",
     "output_type": "stream",
     "text": [
      "\n",
      "      Epoch    GPU_mem   box_loss   cls_loss   dfl_loss  Instances       Size\n"
     ]
    },
    {
     "name": "stderr",
     "output_type": "stream",
     "text": [
      "     50/100         0G     0.1306      0.498     0.9261          9        640: 100%|██████████| 49/49 [04:40<00:00,  5.72s/it]\n",
      "                 Class     Images  Instances      Box(P          R      mAP50  mAP50-95): 100%|██████████| 6/6 [00:24<00:00,  4.09s/it]"
     ]
    },
    {
     "name": "stdout",
     "output_type": "stream",
     "text": [
      "                   all        165        165      0.766      0.702      0.726      0.724\n"
     ]
    },
    {
     "name": "stderr",
     "output_type": "stream",
     "text": [
      "\n"
     ]
    },
    {
     "name": "stdout",
     "output_type": "stream",
     "text": [
      "\n",
      "      Epoch    GPU_mem   box_loss   cls_loss   dfl_loss  Instances       Size\n"
     ]
    },
    {
     "name": "stderr",
     "output_type": "stream",
     "text": [
      "     51/100         0G     0.1335     0.4913     0.9358         10        640: 100%|██████████| 49/49 [04:38<00:00,  5.69s/it]\n",
      "                 Class     Images  Instances      Box(P          R      mAP50  mAP50-95): 100%|██████████| 6/6 [00:22<00:00,  3.78s/it]"
     ]
    },
    {
     "name": "stdout",
     "output_type": "stream",
     "text": [
      "                   all        165        165      0.812      0.855      0.949       0.94\n"
     ]
    },
    {
     "name": "stderr",
     "output_type": "stream",
     "text": [
      "\n"
     ]
    },
    {
     "name": "stdout",
     "output_type": "stream",
     "text": [
      "\n",
      "      Epoch    GPU_mem   box_loss   cls_loss   dfl_loss  Instances       Size\n"
     ]
    },
    {
     "name": "stderr",
     "output_type": "stream",
     "text": [
      "     52/100         0G     0.1238     0.4664     0.9282          7        640: 100%|██████████| 49/49 [04:43<00:00,  5.78s/it]\n",
      "                 Class     Images  Instances      Box(P          R      mAP50  mAP50-95): 100%|██████████| 6/6 [00:22<00:00,  3.73s/it]"
     ]
    },
    {
     "name": "stdout",
     "output_type": "stream",
     "text": [
      "                   all        165        165      0.673      0.814      0.899      0.894\n"
     ]
    },
    {
     "name": "stderr",
     "output_type": "stream",
     "text": [
      "\n"
     ]
    },
    {
     "name": "stdout",
     "output_type": "stream",
     "text": [
      "\n",
      "      Epoch    GPU_mem   box_loss   cls_loss   dfl_loss  Instances       Size\n"
     ]
    },
    {
     "name": "stderr",
     "output_type": "stream",
     "text": [
      "     53/100         0G     0.1266     0.4741     0.9213          8        640: 100%|██████████| 49/49 [04:40<00:00,  5.72s/it]\n",
      "                 Class     Images  Instances      Box(P          R      mAP50  mAP50-95): 100%|██████████| 6/6 [00:22<00:00,  3.74s/it]"
     ]
    },
    {
     "name": "stdout",
     "output_type": "stream",
     "text": [
      "                   all        165        165      0.938      0.949      0.986      0.986\n"
     ]
    },
    {
     "name": "stderr",
     "output_type": "stream",
     "text": [
      "\n"
     ]
    },
    {
     "name": "stdout",
     "output_type": "stream",
     "text": [
      "\n",
      "      Epoch    GPU_mem   box_loss   cls_loss   dfl_loss  Instances       Size\n"
     ]
    },
    {
     "name": "stderr",
     "output_type": "stream",
     "text": [
      "     54/100         0G     0.1236     0.4601     0.9194         10        640: 100%|██████████| 49/49 [04:38<00:00,  5.69s/it]\n",
      "                 Class     Images  Instances      Box(P          R      mAP50  mAP50-95): 100%|██████████| 6/6 [00:22<00:00,  3.69s/it]"
     ]
    },
    {
     "name": "stdout",
     "output_type": "stream",
     "text": [
      "                   all        165        165      0.868      0.874      0.951      0.945\n"
     ]
    },
    {
     "name": "stderr",
     "output_type": "stream",
     "text": [
      "\n"
     ]
    },
    {
     "name": "stdout",
     "output_type": "stream",
     "text": [
      "\n",
      "      Epoch    GPU_mem   box_loss   cls_loss   dfl_loss  Instances       Size\n"
     ]
    },
    {
     "name": "stderr",
     "output_type": "stream",
     "text": [
      "     55/100         0G     0.1242     0.4693     0.9282          9        640: 100%|██████████| 49/49 [04:39<00:00,  5.70s/it]\n",
      "                 Class     Images  Instances      Box(P          R      mAP50  mAP50-95): 100%|██████████| 6/6 [00:21<00:00,  3.57s/it]"
     ]
    },
    {
     "name": "stdout",
     "output_type": "stream",
     "text": [
      "                   all        165        165      0.865      0.809      0.816      0.808\n"
     ]
    },
    {
     "name": "stderr",
     "output_type": "stream",
     "text": [
      "\n"
     ]
    },
    {
     "name": "stdout",
     "output_type": "stream",
     "text": [
      "\n",
      "      Epoch    GPU_mem   box_loss   cls_loss   dfl_loss  Instances       Size\n"
     ]
    },
    {
     "name": "stderr",
     "output_type": "stream",
     "text": [
      "     56/100         0G     0.1261     0.4822     0.9327          6        640: 100%|██████████| 49/49 [04:41<00:00,  5.74s/it]\n",
      "                 Class     Images  Instances      Box(P          R      mAP50  mAP50-95): 100%|██████████| 6/6 [00:21<00:00,  3.54s/it]"
     ]
    },
    {
     "name": "stdout",
     "output_type": "stream",
     "text": [
      "                   all        165        165      0.762      0.892      0.854       0.85\n"
     ]
    },
    {
     "name": "stderr",
     "output_type": "stream",
     "text": [
      "\n"
     ]
    },
    {
     "name": "stdout",
     "output_type": "stream",
     "text": [
      "\n",
      "      Epoch    GPU_mem   box_loss   cls_loss   dfl_loss  Instances       Size\n"
     ]
    },
    {
     "name": "stderr",
     "output_type": "stream",
     "text": [
      "     57/100         0G     0.1163     0.4572     0.9234          9        640: 100%|██████████| 49/49 [04:39<00:00,  5.70s/it]\n",
      "                 Class     Images  Instances      Box(P          R      mAP50  mAP50-95): 100%|██████████| 6/6 [00:20<00:00,  3.49s/it]"
     ]
    },
    {
     "name": "stdout",
     "output_type": "stream",
     "text": [
      "                   all        165        165      0.759      0.836      0.913      0.912\n"
     ]
    },
    {
     "name": "stderr",
     "output_type": "stream",
     "text": [
      "\n"
     ]
    },
    {
     "name": "stdout",
     "output_type": "stream",
     "text": [
      "\n",
      "      Epoch    GPU_mem   box_loss   cls_loss   dfl_loss  Instances       Size\n"
     ]
    },
    {
     "name": "stderr",
     "output_type": "stream",
     "text": [
      "     58/100         0G     0.1215     0.4818      0.927         12        640: 100%|██████████| 49/49 [04:46<00:00,  5.84s/it]\n",
      "                 Class     Images  Instances      Box(P          R      mAP50  mAP50-95): 100%|██████████| 6/6 [00:20<00:00,  3.46s/it]"
     ]
    },
    {
     "name": "stdout",
     "output_type": "stream",
     "text": [
      "                   all        165        165      0.931      0.936      0.985      0.977\n"
     ]
    },
    {
     "name": "stderr",
     "output_type": "stream",
     "text": [
      "\n"
     ]
    },
    {
     "name": "stdout",
     "output_type": "stream",
     "text": [
      "\n",
      "      Epoch    GPU_mem   box_loss   cls_loss   dfl_loss  Instances       Size\n"
     ]
    },
    {
     "name": "stderr",
     "output_type": "stream",
     "text": [
      "     59/100         0G     0.1281     0.4648     0.9305         10        640: 100%|██████████| 49/49 [04:40<00:00,  5.71s/it]\n",
      "                 Class     Images  Instances      Box(P          R      mAP50  mAP50-95): 100%|██████████| 6/6 [00:20<00:00,  3.49s/it]"
     ]
    },
    {
     "name": "stdout",
     "output_type": "stream",
     "text": [
      "                   all        165        165      0.838      0.883      0.937      0.936\n"
     ]
    },
    {
     "name": "stderr",
     "output_type": "stream",
     "text": [
      "\n"
     ]
    },
    {
     "name": "stdout",
     "output_type": "stream",
     "text": [
      "\n",
      "      Epoch    GPU_mem   box_loss   cls_loss   dfl_loss  Instances       Size\n"
     ]
    },
    {
     "name": "stderr",
     "output_type": "stream",
     "text": [
      "     60/100         0G     0.1206     0.4643     0.9257          7        640: 100%|██████████| 49/49 [04:37<00:00,  5.66s/it]\n",
      "                 Class     Images  Instances      Box(P          R      mAP50  mAP50-95): 100%|██████████| 6/6 [00:20<00:00,  3.44s/it]"
     ]
    },
    {
     "name": "stdout",
     "output_type": "stream",
     "text": [
      "                   all        165        165      0.764      0.868      0.916      0.911\n"
     ]
    },
    {
     "name": "stderr",
     "output_type": "stream",
     "text": [
      "\n"
     ]
    },
    {
     "name": "stdout",
     "output_type": "stream",
     "text": [
      "\n",
      "      Epoch    GPU_mem   box_loss   cls_loss   dfl_loss  Instances       Size\n"
     ]
    },
    {
     "name": "stderr",
     "output_type": "stream",
     "text": [
      "     61/100         0G     0.1198     0.4531     0.9193          6        640: 100%|██████████| 49/49 [04:39<00:00,  5.70s/it]\n",
      "                 Class     Images  Instances      Box(P          R      mAP50  mAP50-95): 100%|██████████| 6/6 [00:20<00:00,  3.46s/it]"
     ]
    },
    {
     "name": "stdout",
     "output_type": "stream",
     "text": [
      "                   all        165        165      0.707      0.864       0.89      0.867\n"
     ]
    },
    {
     "name": "stderr",
     "output_type": "stream",
     "text": [
      "\n"
     ]
    },
    {
     "name": "stdout",
     "output_type": "stream",
     "text": [
      "\n",
      "      Epoch    GPU_mem   box_loss   cls_loss   dfl_loss  Instances       Size\n"
     ]
    },
    {
     "name": "stderr",
     "output_type": "stream",
     "text": [
      "     62/100         0G       0.12     0.4574     0.9169         11        640: 100%|██████████| 49/49 [04:42<00:00,  5.76s/it]\n",
      "                 Class     Images  Instances      Box(P          R      mAP50  mAP50-95): 100%|██████████| 6/6 [00:20<00:00,  3.49s/it]"
     ]
    },
    {
     "name": "stdout",
     "output_type": "stream",
     "text": [
      "                   all        165        165      0.767      0.868      0.938      0.915\n"
     ]
    },
    {
     "name": "stderr",
     "output_type": "stream",
     "text": [
      "\n"
     ]
    },
    {
     "name": "stdout",
     "output_type": "stream",
     "text": [
      "\n",
      "      Epoch    GPU_mem   box_loss   cls_loss   dfl_loss  Instances       Size\n"
     ]
    },
    {
     "name": "stderr",
     "output_type": "stream",
     "text": [
      "     63/100         0G     0.1148     0.4518     0.9194          9        640: 100%|██████████| 49/49 [04:42<00:00,  5.77s/it]\n",
      "                 Class     Images  Instances      Box(P          R      mAP50  mAP50-95): 100%|██████████| 6/6 [00:22<00:00,  3.80s/it]"
     ]
    },
    {
     "name": "stdout",
     "output_type": "stream",
     "text": [
      "                   all        165        165      0.784      0.677      0.707      0.706\n"
     ]
    },
    {
     "name": "stderr",
     "output_type": "stream",
     "text": [
      "\n"
     ]
    },
    {
     "name": "stdout",
     "output_type": "stream",
     "text": [
      "\n",
      "      Epoch    GPU_mem   box_loss   cls_loss   dfl_loss  Instances       Size\n"
     ]
    },
    {
     "name": "stderr",
     "output_type": "stream",
     "text": [
      "     64/100         0G      0.109      0.467     0.9218         10        640: 100%|██████████| 49/49 [04:28<00:00,  5.48s/it]\n",
      "                 Class     Images  Instances      Box(P          R      mAP50  mAP50-95): 100%|██████████| 6/6 [00:21<00:00,  3.56s/it]"
     ]
    },
    {
     "name": "stdout",
     "output_type": "stream",
     "text": [
      "                   all        165        165      0.653      0.944      0.959      0.955\n"
     ]
    },
    {
     "name": "stderr",
     "output_type": "stream",
     "text": [
      "\n"
     ]
    },
    {
     "name": "stdout",
     "output_type": "stream",
     "text": [
      "\n",
      "      Epoch    GPU_mem   box_loss   cls_loss   dfl_loss  Instances       Size\n"
     ]
    },
    {
     "name": "stderr",
     "output_type": "stream",
     "text": [
      "     65/100         0G     0.1154     0.4507     0.9199         12        640: 100%|██████████| 49/49 [04:23<00:00,  5.37s/it]\n",
      "                 Class     Images  Instances      Box(P          R      mAP50  mAP50-95): 100%|██████████| 6/6 [00:19<00:00,  3.31s/it]"
     ]
    },
    {
     "name": "stdout",
     "output_type": "stream",
     "text": [
      "                   all        165        165      0.938      0.935      0.987      0.986\n"
     ]
    },
    {
     "name": "stderr",
     "output_type": "stream",
     "text": [
      "\n"
     ]
    },
    {
     "name": "stdout",
     "output_type": "stream",
     "text": [
      "\n",
      "      Epoch    GPU_mem   box_loss   cls_loss   dfl_loss  Instances       Size\n"
     ]
    },
    {
     "name": "stderr",
     "output_type": "stream",
     "text": [
      "     66/100         0G      0.113     0.4667     0.9277          8        640: 100%|██████████| 49/49 [04:48<00:00,  5.89s/it]\n",
      "                 Class     Images  Instances      Box(P          R      mAP50  mAP50-95): 100%|██████████| 6/6 [00:21<00:00,  3.66s/it]"
     ]
    },
    {
     "name": "stdout",
     "output_type": "stream",
     "text": [
      "                   all        165        165      0.749       0.81      0.874      0.873\n"
     ]
    },
    {
     "name": "stderr",
     "output_type": "stream",
     "text": [
      "\n"
     ]
    },
    {
     "name": "stdout",
     "output_type": "stream",
     "text": [
      "\n",
      "      Epoch    GPU_mem   box_loss   cls_loss   dfl_loss  Instances       Size\n"
     ]
    },
    {
     "name": "stderr",
     "output_type": "stream",
     "text": [
      "     67/100         0G     0.1036     0.4612     0.9121          9        640: 100%|██████████| 49/49 [04:35<00:00,  5.63s/it]\n",
      "                 Class     Images  Instances      Box(P          R      mAP50  mAP50-95): 100%|██████████| 6/6 [00:21<00:00,  3.52s/it]"
     ]
    },
    {
     "name": "stdout",
     "output_type": "stream",
     "text": [
      "                   all        165        165      0.805      0.855      0.945      0.941\n"
     ]
    },
    {
     "name": "stderr",
     "output_type": "stream",
     "text": [
      "\n"
     ]
    },
    {
     "name": "stdout",
     "output_type": "stream",
     "text": [
      "\n",
      "      Epoch    GPU_mem   box_loss   cls_loss   dfl_loss  Instances       Size\n"
     ]
    },
    {
     "name": "stderr",
     "output_type": "stream",
     "text": [
      "     68/100         0G     0.1095     0.4305     0.9337          7        640: 100%|██████████| 49/49 [05:03<00:00,  6.19s/it]\n",
      "                 Class     Images  Instances      Box(P          R      mAP50  mAP50-95): 100%|██████████| 6/6 [00:22<00:00,  3.76s/it]"
     ]
    },
    {
     "name": "stdout",
     "output_type": "stream",
     "text": [
      "                   all        165        165      0.962      0.938      0.985      0.982\n"
     ]
    },
    {
     "name": "stderr",
     "output_type": "stream",
     "text": [
      "\n"
     ]
    },
    {
     "name": "stdout",
     "output_type": "stream",
     "text": [
      "\n",
      "      Epoch    GPU_mem   box_loss   cls_loss   dfl_loss  Instances       Size\n"
     ]
    },
    {
     "name": "stderr",
     "output_type": "stream",
     "text": [
      "     69/100         0G     0.1099     0.4408     0.9158          9        640: 100%|██████████| 49/49 [05:12<00:00,  6.38s/it]\n",
      "                 Class     Images  Instances      Box(P          R      mAP50  mAP50-95): 100%|██████████| 6/6 [00:24<00:00,  4.11s/it]"
     ]
    },
    {
     "name": "stdout",
     "output_type": "stream",
     "text": [
      "                   all        165        165      0.946      0.922      0.978      0.965\n"
     ]
    },
    {
     "name": "stderr",
     "output_type": "stream",
     "text": [
      "\n"
     ]
    },
    {
     "name": "stdout",
     "output_type": "stream",
     "text": [
      "\n",
      "      Epoch    GPU_mem   box_loss   cls_loss   dfl_loss  Instances       Size\n"
     ]
    },
    {
     "name": "stderr",
     "output_type": "stream",
     "text": [
      "     70/100         0G     0.1008     0.4319     0.9087         10        640: 100%|██████████| 49/49 [04:51<00:00,  5.94s/it]\n",
      "                 Class     Images  Instances      Box(P          R      mAP50  mAP50-95): 100%|██████████| 6/6 [00:22<00:00,  3.71s/it]"
     ]
    },
    {
     "name": "stdout",
     "output_type": "stream",
     "text": [
      "                   all        165        165      0.937      0.939      0.985      0.984\n"
     ]
    },
    {
     "name": "stderr",
     "output_type": "stream",
     "text": [
      "\n"
     ]
    },
    {
     "name": "stdout",
     "output_type": "stream",
     "text": [
      "\n",
      "      Epoch    GPU_mem   box_loss   cls_loss   dfl_loss  Instances       Size\n"
     ]
    },
    {
     "name": "stderr",
     "output_type": "stream",
     "text": [
      "     71/100         0G     0.1008     0.4378     0.9157          8        640: 100%|██████████| 49/49 [04:43<00:00,  5.79s/it]\n",
      "                 Class     Images  Instances      Box(P          R      mAP50  mAP50-95): 100%|██████████| 6/6 [00:22<00:00,  3.82s/it]"
     ]
    },
    {
     "name": "stdout",
     "output_type": "stream",
     "text": [
      "                   all        165        165      0.774      0.907      0.903      0.894\n"
     ]
    },
    {
     "name": "stderr",
     "output_type": "stream",
     "text": [
      "\n"
     ]
    },
    {
     "name": "stdout",
     "output_type": "stream",
     "text": [
      "\n",
      "      Epoch    GPU_mem   box_loss   cls_loss   dfl_loss  Instances       Size\n"
     ]
    },
    {
     "name": "stderr",
     "output_type": "stream",
     "text": [
      "     72/100         0G      0.105     0.4104     0.9115         12        640: 100%|██████████| 49/49 [04:37<00:00,  5.66s/it]\n",
      "                 Class     Images  Instances      Box(P          R      mAP50  mAP50-95): 100%|██████████| 6/6 [00:22<00:00,  3.76s/it]"
     ]
    },
    {
     "name": "stdout",
     "output_type": "stream",
     "text": [
      "                   all        165        165      0.774      0.941       0.97      0.968\n"
     ]
    },
    {
     "name": "stderr",
     "output_type": "stream",
     "text": [
      "\n"
     ]
    },
    {
     "name": "stdout",
     "output_type": "stream",
     "text": [
      "\n",
      "      Epoch    GPU_mem   box_loss   cls_loss   dfl_loss  Instances       Size\n"
     ]
    },
    {
     "name": "stderr",
     "output_type": "stream",
     "text": [
      "     73/100         0G    0.09806     0.4088     0.9228         12        640: 100%|██████████| 49/49 [04:36<00:00,  5.64s/it]\n",
      "                 Class     Images  Instances      Box(P          R      mAP50  mAP50-95): 100%|██████████| 6/6 [00:22<00:00,  3.77s/it]"
     ]
    },
    {
     "name": "stdout",
     "output_type": "stream",
     "text": [
      "                   all        165        165      0.915      0.911      0.981      0.981\n"
     ]
    },
    {
     "name": "stderr",
     "output_type": "stream",
     "text": [
      "\n"
     ]
    },
    {
     "name": "stdout",
     "output_type": "stream",
     "text": [
      "\n",
      "      Epoch    GPU_mem   box_loss   cls_loss   dfl_loss  Instances       Size\n"
     ]
    },
    {
     "name": "stderr",
     "output_type": "stream",
     "text": [
      "     74/100         0G    0.09412     0.4209     0.9116          9        640: 100%|██████████| 49/49 [04:40<00:00,  5.72s/it]\n",
      "                 Class     Images  Instances      Box(P          R      mAP50  mAP50-95): 100%|██████████| 6/6 [00:22<00:00,  3.67s/it]"
     ]
    },
    {
     "name": "stdout",
     "output_type": "stream",
     "text": [
      "                   all        165        165      0.882      0.912      0.961      0.959\n"
     ]
    },
    {
     "name": "stderr",
     "output_type": "stream",
     "text": [
      "\n"
     ]
    },
    {
     "name": "stdout",
     "output_type": "stream",
     "text": [
      "\n",
      "      Epoch    GPU_mem   box_loss   cls_loss   dfl_loss  Instances       Size\n"
     ]
    },
    {
     "name": "stderr",
     "output_type": "stream",
     "text": [
      "     75/100         0G    0.09159     0.4083     0.9127          8        640: 100%|██████████| 49/49 [04:43<00:00,  5.80s/it]\n",
      "                 Class     Images  Instances      Box(P          R      mAP50  mAP50-95): 100%|██████████| 6/6 [00:22<00:00,  3.71s/it]"
     ]
    },
    {
     "name": "stdout",
     "output_type": "stream",
     "text": [
      "                   all        165        165      0.863      0.911      0.948      0.944\n"
     ]
    },
    {
     "name": "stderr",
     "output_type": "stream",
     "text": [
      "\n"
     ]
    },
    {
     "name": "stdout",
     "output_type": "stream",
     "text": [
      "\n",
      "      Epoch    GPU_mem   box_loss   cls_loss   dfl_loss  Instances       Size\n"
     ]
    },
    {
     "name": "stderr",
     "output_type": "stream",
     "text": [
      "     76/100         0G     0.0955     0.4214     0.9171         12        640: 100%|██████████| 49/49 [04:39<00:00,  5.71s/it]\n",
      "                 Class     Images  Instances      Box(P          R      mAP50  mAP50-95): 100%|██████████| 6/6 [00:22<00:00,  3.74s/it]"
     ]
    },
    {
     "name": "stdout",
     "output_type": "stream",
     "text": [
      "                   all        165        165        0.7      0.935       0.94      0.933\n"
     ]
    },
    {
     "name": "stderr",
     "output_type": "stream",
     "text": [
      "\n"
     ]
    },
    {
     "name": "stdout",
     "output_type": "stream",
     "text": [
      "\n",
      "      Epoch    GPU_mem   box_loss   cls_loss   dfl_loss  Instances       Size\n"
     ]
    },
    {
     "name": "stderr",
     "output_type": "stream",
     "text": [
      "     77/100         0G    0.09315      0.401     0.9106         10        640: 100%|██████████| 49/49 [04:42<00:00,  5.76s/it]\n",
      "                 Class     Images  Instances      Box(P          R      mAP50  mAP50-95): 100%|██████████| 6/6 [00:22<00:00,  3.73s/it]"
     ]
    },
    {
     "name": "stdout",
     "output_type": "stream",
     "text": [
      "                   all        165        165      0.861      0.916      0.957      0.956\n"
     ]
    },
    {
     "name": "stderr",
     "output_type": "stream",
     "text": [
      "\n"
     ]
    },
    {
     "name": "stdout",
     "output_type": "stream",
     "text": [
      "\n",
      "      Epoch    GPU_mem   box_loss   cls_loss   dfl_loss  Instances       Size\n"
     ]
    },
    {
     "name": "stderr",
     "output_type": "stream",
     "text": [
      "     78/100         0G    0.09822     0.4024     0.9162          8        640: 100%|██████████| 49/49 [04:54<00:00,  6.01s/it]\n",
      "                 Class     Images  Instances      Box(P          R      mAP50  mAP50-95): 100%|██████████| 6/6 [00:22<00:00,  3.75s/it]"
     ]
    },
    {
     "name": "stdout",
     "output_type": "stream",
     "text": [
      "                   all        165        165      0.966      0.969      0.988      0.981\n"
     ]
    },
    {
     "name": "stderr",
     "output_type": "stream",
     "text": [
      "\n"
     ]
    },
    {
     "name": "stdout",
     "output_type": "stream",
     "text": [
      "\n",
      "      Epoch    GPU_mem   box_loss   cls_loss   dfl_loss  Instances       Size\n"
     ]
    },
    {
     "name": "stderr",
     "output_type": "stream",
     "text": [
      "     79/100         0G    0.09247     0.4181     0.9104          9        640: 100%|██████████| 49/49 [04:41<00:00,  5.74s/it]\n",
      "                 Class     Images  Instances      Box(P          R      mAP50  mAP50-95): 100%|██████████| 6/6 [00:22<00:00,  3.72s/it]"
     ]
    },
    {
     "name": "stdout",
     "output_type": "stream",
     "text": [
      "                   all        165        165      0.788      0.928      0.976      0.974\n"
     ]
    },
    {
     "name": "stderr",
     "output_type": "stream",
     "text": [
      "\n"
     ]
    },
    {
     "name": "stdout",
     "output_type": "stream",
     "text": [
      "\n",
      "      Epoch    GPU_mem   box_loss   cls_loss   dfl_loss  Instances       Size\n"
     ]
    },
    {
     "name": "stderr",
     "output_type": "stream",
     "text": [
      "     80/100         0G    0.08615     0.4042      0.907         11        640: 100%|██████████| 49/49 [04:40<00:00,  5.72s/it]\n",
      "                 Class     Images  Instances      Box(P          R      mAP50  mAP50-95): 100%|██████████| 6/6 [00:21<00:00,  3.56s/it]"
     ]
    },
    {
     "name": "stdout",
     "output_type": "stream",
     "text": [
      "                   all        165        165      0.914      0.954      0.984       0.97\n"
     ]
    },
    {
     "name": "stderr",
     "output_type": "stream",
     "text": [
      "\n"
     ]
    },
    {
     "name": "stdout",
     "output_type": "stream",
     "text": [
      "\n",
      "      Epoch    GPU_mem   box_loss   cls_loss   dfl_loss  Instances       Size\n"
     ]
    },
    {
     "name": "stderr",
     "output_type": "stream",
     "text": [
      "     81/100         0G     0.1011     0.4102     0.9293          7        640: 100%|██████████| 49/49 [04:44<00:00,  5.81s/it]\n",
      "                 Class     Images  Instances      Box(P          R      mAP50  mAP50-95): 100%|██████████| 6/6 [00:20<00:00,  3.44s/it]"
     ]
    },
    {
     "name": "stdout",
     "output_type": "stream",
     "text": [
      "                   all        165        165      0.914      0.928      0.978      0.978\n"
     ]
    },
    {
     "name": "stderr",
     "output_type": "stream",
     "text": [
      "\n"
     ]
    },
    {
     "name": "stdout",
     "output_type": "stream",
     "text": [
      "\n",
      "      Epoch    GPU_mem   box_loss   cls_loss   dfl_loss  Instances       Size\n"
     ]
    },
    {
     "name": "stderr",
     "output_type": "stream",
     "text": [
      "     82/100         0G    0.09117     0.4024     0.9121          8        640: 100%|██████████| 49/49 [04:39<00:00,  5.71s/it]\n",
      "                 Class     Images  Instances      Box(P          R      mAP50  mAP50-95): 100%|██████████| 6/6 [00:21<00:00,  3.61s/it]"
     ]
    },
    {
     "name": "stdout",
     "output_type": "stream",
     "text": [
      "                   all        165        165      0.793      0.741        0.9        0.9\n"
     ]
    },
    {
     "name": "stderr",
     "output_type": "stream",
     "text": [
      "\n"
     ]
    },
    {
     "name": "stdout",
     "output_type": "stream",
     "text": [
      "\n",
      "      Epoch    GPU_mem   box_loss   cls_loss   dfl_loss  Instances       Size\n"
     ]
    },
    {
     "name": "stderr",
     "output_type": "stream",
     "text": [
      "     83/100         0G    0.08695     0.4036     0.9148         10        640: 100%|██████████| 49/49 [04:40<00:00,  5.72s/it]\n",
      "                 Class     Images  Instances      Box(P          R      mAP50  mAP50-95): 100%|██████████| 6/6 [00:21<00:00,  3.52s/it]"
     ]
    },
    {
     "name": "stdout",
     "output_type": "stream",
     "text": [
      "                   all        165        165      0.715      0.796      0.842      0.842\n"
     ]
    },
    {
     "name": "stderr",
     "output_type": "stream",
     "text": [
      "\n"
     ]
    },
    {
     "name": "stdout",
     "output_type": "stream",
     "text": [
      "\n",
      "      Epoch    GPU_mem   box_loss   cls_loss   dfl_loss  Instances       Size\n"
     ]
    },
    {
     "name": "stderr",
     "output_type": "stream",
     "text": [
      "     84/100         0G    0.09014     0.4151     0.9139          7        640: 100%|██████████| 49/49 [04:38<00:00,  5.68s/it]\n",
      "                 Class     Images  Instances      Box(P          R      mAP50  mAP50-95): 100%|██████████| 6/6 [00:21<00:00,  3.52s/it]"
     ]
    },
    {
     "name": "stdout",
     "output_type": "stream",
     "text": [
      "                   all        165        165      0.933      0.943      0.979      0.975\n"
     ]
    },
    {
     "name": "stderr",
     "output_type": "stream",
     "text": [
      "\n"
     ]
    },
    {
     "name": "stdout",
     "output_type": "stream",
     "text": [
      "\n",
      "      Epoch    GPU_mem   box_loss   cls_loss   dfl_loss  Instances       Size\n"
     ]
    },
    {
     "name": "stderr",
     "output_type": "stream",
     "text": [
      "     85/100         0G    0.08435     0.4086     0.9032          9        640: 100%|██████████| 49/49 [04:36<00:00,  5.65s/it]\n",
      "                 Class     Images  Instances      Box(P          R      mAP50  mAP50-95): 100%|██████████| 6/6 [00:20<00:00,  3.49s/it]"
     ]
    },
    {
     "name": "stdout",
     "output_type": "stream",
     "text": [
      "                   all        165        165      0.944      0.944      0.984      0.979\n"
     ]
    },
    {
     "name": "stderr",
     "output_type": "stream",
     "text": [
      "\n"
     ]
    },
    {
     "name": "stdout",
     "output_type": "stream",
     "text": [
      "\n",
      "      Epoch    GPU_mem   box_loss   cls_loss   dfl_loss  Instances       Size\n"
     ]
    },
    {
     "name": "stderr",
     "output_type": "stream",
     "text": [
      "     86/100         0G    0.08422     0.4072     0.9091         10        640: 100%|██████████| 49/49 [04:42<00:00,  5.77s/it]\n",
      "                 Class     Images  Instances      Box(P          R      mAP50  mAP50-95): 100%|██████████| 6/6 [00:21<00:00,  3.54s/it]"
     ]
    },
    {
     "name": "stdout",
     "output_type": "stream",
     "text": [
      "                   all        165        165      0.889      0.972      0.984      0.978\n"
     ]
    },
    {
     "name": "stderr",
     "output_type": "stream",
     "text": [
      "\n"
     ]
    },
    {
     "name": "stdout",
     "output_type": "stream",
     "text": [
      "\n",
      "      Epoch    GPU_mem   box_loss   cls_loss   dfl_loss  Instances       Size\n"
     ]
    },
    {
     "name": "stderr",
     "output_type": "stream",
     "text": [
      "     87/100         0G    0.08175     0.3959     0.9026          9        640: 100%|██████████| 49/49 [04:45<00:00,  5.82s/it]\n",
      "                 Class     Images  Instances      Box(P          R      mAP50  mAP50-95): 100%|██████████| 6/6 [00:22<00:00,  3.78s/it]"
     ]
    },
    {
     "name": "stdout",
     "output_type": "stream",
     "text": [
      "                   all        165        165      0.966      0.965      0.987      0.986\n"
     ]
    },
    {
     "name": "stderr",
     "output_type": "stream",
     "text": [
      "\n"
     ]
    },
    {
     "name": "stdout",
     "output_type": "stream",
     "text": [
      "\n",
      "      Epoch    GPU_mem   box_loss   cls_loss   dfl_loss  Instances       Size\n"
     ]
    },
    {
     "name": "stderr",
     "output_type": "stream",
     "text": [
      "     88/100         0G    0.08005     0.3774     0.9016         10        640: 100%|██████████| 49/49 [04:50<00:00,  5.94s/it]\n",
      "                 Class     Images  Instances      Box(P          R      mAP50  mAP50-95): 100%|██████████| 6/6 [00:25<00:00,  4.22s/it]"
     ]
    },
    {
     "name": "stdout",
     "output_type": "stream",
     "text": [
      "                   all        165        165      0.915      0.965      0.982      0.982\n"
     ]
    },
    {
     "name": "stderr",
     "output_type": "stream",
     "text": [
      "\n"
     ]
    },
    {
     "name": "stdout",
     "output_type": "stream",
     "text": [
      "\n",
      "      Epoch    GPU_mem   box_loss   cls_loss   dfl_loss  Instances       Size\n"
     ]
    },
    {
     "name": "stderr",
     "output_type": "stream",
     "text": [
      "     89/100         0G    0.08198     0.3768     0.9188          6        640: 100%|██████████| 49/49 [04:41<00:00,  5.75s/it]\n",
      "                 Class     Images  Instances      Box(P          R      mAP50  mAP50-95): 100%|██████████| 6/6 [00:23<00:00,  3.85s/it]"
     ]
    },
    {
     "name": "stdout",
     "output_type": "stream",
     "text": [
      "                   all        165        165      0.917      0.972      0.984      0.983\n"
     ]
    },
    {
     "name": "stderr",
     "output_type": "stream",
     "text": [
      "\n"
     ]
    },
    {
     "name": "stdout",
     "output_type": "stream",
     "text": [
      "\n",
      "      Epoch    GPU_mem   box_loss   cls_loss   dfl_loss  Instances       Size\n"
     ]
    },
    {
     "name": "stderr",
     "output_type": "stream",
     "text": [
      "     90/100         0G    0.08453     0.3618     0.9166          7        640: 100%|██████████| 49/49 [04:30<00:00,  5.53s/it]\n",
      "                 Class     Images  Instances      Box(P          R      mAP50  mAP50-95): 100%|██████████| 6/6 [00:20<00:00,  3.39s/it]"
     ]
    },
    {
     "name": "stdout",
     "output_type": "stream",
     "text": [
      "                   all        165        165      0.947      0.949      0.986      0.986\n"
     ]
    },
    {
     "name": "stderr",
     "output_type": "stream",
     "text": [
      "\n"
     ]
    },
    {
     "name": "stdout",
     "output_type": "stream",
     "text": [
      "Closing dataloader mosaic\n",
      "\n",
      "      Epoch    GPU_mem   box_loss   cls_loss   dfl_loss  Instances       Size\n"
     ]
    },
    {
     "name": "stderr",
     "output_type": "stream",
     "text": [
      "/home/nokan/code/donat-konan33/ClassificationWithTransferlearning/.venv/lib/python3.9/site-packages/torch/utils/data/dataloader.py:665: UserWarning: 'pin_memory' argument is set as true but no accelerator is found, then device pinned memory won't be used.\n",
      "  warnings.warn(warn_msg)\n",
      "     91/100         0G    0.09525     0.5037     0.9586          3        640: 100%|██████████| 49/49 [04:19<00:00,  5.30s/it]\n",
      "                 Class     Images  Instances      Box(P          R      mAP50  mAP50-95): 100%|██████████| 6/6 [00:21<00:00,  3.63s/it]"
     ]
    },
    {
     "name": "stdout",
     "output_type": "stream",
     "text": [
      "                   all        165        165       0.65      0.863      0.894      0.893\n"
     ]
    },
    {
     "name": "stderr",
     "output_type": "stream",
     "text": [
      "\n"
     ]
    },
    {
     "name": "stdout",
     "output_type": "stream",
     "text": [
      "\n",
      "      Epoch    GPU_mem   box_loss   cls_loss   dfl_loss  Instances       Size\n"
     ]
    },
    {
     "name": "stderr",
     "output_type": "stream",
     "text": [
      "     92/100         0G    0.04601     0.1611     0.9166          3        640: 100%|██████████| 49/49 [04:21<00:00,  5.33s/it]\n",
      "                 Class     Images  Instances      Box(P          R      mAP50  mAP50-95): 100%|██████████| 6/6 [00:20<00:00,  3.45s/it]"
     ]
    },
    {
     "name": "stdout",
     "output_type": "stream",
     "text": [
      "                   all        165        165       0.89      0.927      0.958      0.958\n"
     ]
    },
    {
     "name": "stderr",
     "output_type": "stream",
     "text": [
      "\n"
     ]
    },
    {
     "name": "stdout",
     "output_type": "stream",
     "text": [
      "\n",
      "      Epoch    GPU_mem   box_loss   cls_loss   dfl_loss  Instances       Size\n"
     ]
    },
    {
     "name": "stderr",
     "output_type": "stream",
     "text": [
      "     93/100         0G    0.04125     0.1508      0.896          3        640: 100%|██████████| 49/49 [04:19<00:00,  5.30s/it]\n",
      "                 Class     Images  Instances      Box(P          R      mAP50  mAP50-95): 100%|██████████| 6/6 [00:20<00:00,  3.37s/it]"
     ]
    },
    {
     "name": "stdout",
     "output_type": "stream",
     "text": [
      "                   all        165        165      0.949      0.941      0.986      0.986\n"
     ]
    },
    {
     "name": "stderr",
     "output_type": "stream",
     "text": [
      "\n"
     ]
    },
    {
     "name": "stdout",
     "output_type": "stream",
     "text": [
      "\n",
      "      Epoch    GPU_mem   box_loss   cls_loss   dfl_loss  Instances       Size\n"
     ]
    },
    {
     "name": "stderr",
     "output_type": "stream",
     "text": [
      "     94/100         0G    0.04184     0.1525     0.8987          3        640: 100%|██████████| 49/49 [04:19<00:00,  5.29s/it]\n",
      "                 Class     Images  Instances      Box(P          R      mAP50  mAP50-95): 100%|██████████| 6/6 [00:20<00:00,  3.42s/it]"
     ]
    },
    {
     "name": "stdout",
     "output_type": "stream",
     "text": [
      "                   all        165        165      0.957       0.98      0.991      0.991\n"
     ]
    },
    {
     "name": "stderr",
     "output_type": "stream",
     "text": [
      "\n"
     ]
    },
    {
     "name": "stdout",
     "output_type": "stream",
     "text": [
      "\n",
      "      Epoch    GPU_mem   box_loss   cls_loss   dfl_loss  Instances       Size\n"
     ]
    },
    {
     "name": "stderr",
     "output_type": "stream",
     "text": [
      "     95/100         0G    0.03451     0.1483     0.9014          3        640: 100%|██████████| 49/49 [04:21<00:00,  5.34s/it]\n",
      "                 Class     Images  Instances      Box(P          R      mAP50  mAP50-95): 100%|██████████| 6/6 [00:20<00:00,  3.44s/it]"
     ]
    },
    {
     "name": "stdout",
     "output_type": "stream",
     "text": [
      "                   all        165        165       0.96      0.972      0.991       0.99\n"
     ]
    },
    {
     "name": "stderr",
     "output_type": "stream",
     "text": [
      "\n"
     ]
    },
    {
     "name": "stdout",
     "output_type": "stream",
     "text": [
      "\n",
      "      Epoch    GPU_mem   box_loss   cls_loss   dfl_loss  Instances       Size\n"
     ]
    },
    {
     "name": "stderr",
     "output_type": "stream",
     "text": [
      "     96/100         0G      0.033     0.1302     0.9081          3        640: 100%|██████████| 49/49 [04:18<00:00,  5.28s/it]\n",
      "                 Class     Images  Instances      Box(P          R      mAP50  mAP50-95): 100%|██████████| 6/6 [00:20<00:00,  3.36s/it]"
     ]
    },
    {
     "name": "stdout",
     "output_type": "stream",
     "text": [
      "                   all        165        165      0.881      0.941      0.983      0.983\n"
     ]
    },
    {
     "name": "stderr",
     "output_type": "stream",
     "text": [
      "\n"
     ]
    },
    {
     "name": "stdout",
     "output_type": "stream",
     "text": [
      "\n",
      "      Epoch    GPU_mem   box_loss   cls_loss   dfl_loss  Instances       Size\n"
     ]
    },
    {
     "name": "stderr",
     "output_type": "stream",
     "text": [
      "     97/100         0G    0.03375     0.1347     0.8982          3        640: 100%|██████████| 49/49 [04:22<00:00,  5.35s/it]\n",
      "                 Class     Images  Instances      Box(P          R      mAP50  mAP50-95): 100%|██████████| 6/6 [00:20<00:00,  3.38s/it]"
     ]
    },
    {
     "name": "stdout",
     "output_type": "stream",
     "text": [
      "                   all        165        165      0.937       0.98      0.991      0.991\n"
     ]
    },
    {
     "name": "stderr",
     "output_type": "stream",
     "text": [
      "\n"
     ]
    },
    {
     "name": "stdout",
     "output_type": "stream",
     "text": [
      "\n",
      "      Epoch    GPU_mem   box_loss   cls_loss   dfl_loss  Instances       Size\n"
     ]
    },
    {
     "name": "stderr",
     "output_type": "stream",
     "text": [
      "     98/100         0G     0.0336     0.1414     0.8987          3        640: 100%|██████████| 49/49 [04:18<00:00,  5.28s/it]\n",
      "                 Class     Images  Instances      Box(P          R      mAP50  mAP50-95): 100%|██████████| 6/6 [00:21<00:00,  3.61s/it]"
     ]
    },
    {
     "name": "stdout",
     "output_type": "stream",
     "text": [
      "                   all        165        165      0.969      0.969       0.99       0.99\n"
     ]
    },
    {
     "name": "stderr",
     "output_type": "stream",
     "text": [
      "\n"
     ]
    },
    {
     "name": "stdout",
     "output_type": "stream",
     "text": [
      "\n",
      "      Epoch    GPU_mem   box_loss   cls_loss   dfl_loss  Instances       Size\n"
     ]
    },
    {
     "name": "stderr",
     "output_type": "stream",
     "text": [
      "     99/100         0G    0.03237     0.1018     0.9111          3        640: 100%|██████████| 49/49 [04:29<00:00,  5.51s/it]\n",
      "                 Class     Images  Instances      Box(P          R      mAP50  mAP50-95): 100%|██████████| 6/6 [00:27<00:00,  4.50s/it]"
     ]
    },
    {
     "name": "stdout",
     "output_type": "stream",
     "text": [
      "                   all        165        165      0.936      0.981      0.989      0.989\n"
     ]
    },
    {
     "name": "stderr",
     "output_type": "stream",
     "text": [
      "\n"
     ]
    },
    {
     "name": "stdout",
     "output_type": "stream",
     "text": [
      "\n",
      "      Epoch    GPU_mem   box_loss   cls_loss   dfl_loss  Instances       Size\n"
     ]
    },
    {
     "name": "stderr",
     "output_type": "stream",
     "text": [
      "    100/100         0G    0.03141     0.1219     0.8959          3        640: 100%|██████████| 49/49 [04:21<00:00,  5.34s/it]\n",
      "                 Class     Images  Instances      Box(P          R      mAP50  mAP50-95): 100%|██████████| 6/6 [00:21<00:00,  3.50s/it]"
     ]
    },
    {
     "name": "stdout",
     "output_type": "stream",
     "text": [
      "                   all        165        165      0.956      0.957       0.99       0.99\n"
     ]
    },
    {
     "name": "stderr",
     "output_type": "stream",
     "text": [
      "\n"
     ]
    },
    {
     "name": "stdout",
     "output_type": "stream",
     "text": [
      "\n",
      "100 epochs completed in 8.283 hours.\n",
      "Optimizer stripped from /home/nokan/code/donat-konan33/ClassificationWithTransferlearning/runs/detect/train6/weights/last.pt, 6.3MB\n",
      "Optimizer stripped from /home/nokan/code/donat-konan33/ClassificationWithTransferlearning/runs/detect/train6/weights/best.pt, 6.3MB\n",
      "\n",
      "Validating /home/nokan/code/donat-konan33/ClassificationWithTransferlearning/runs/detect/train6/weights/best.pt...\n",
      "Ultralytics 8.3.139 🚀 Python-3.9.20 torch-2.7.0+cu126 CPU (Intel Core(TM) i7-8550U 1.80GHz)\n",
      "Model summary (fused): 72 layers, 3,006,038 parameters, 0 gradients, 8.1 GFLOPs\n"
     ]
    },
    {
     "name": "stderr",
     "output_type": "stream",
     "text": [
      "                 Class     Images  Instances      Box(P          R      mAP50  mAP50-95): 100%|██████████| 6/6 [00:18<00:00,  3.09s/it]\n"
     ]
    },
    {
     "name": "stdout",
     "output_type": "stream",
     "text": [
      "                   all        165        165      0.956      0.979      0.991      0.991\n",
      "                object         76         76      0.961      0.981      0.991      0.991\n",
      "             no_object         89         89      0.951      0.978      0.992      0.991\n",
      "Speed: 2.1ms preprocess, 100.9ms inference, 0.0ms loss, 0.8ms postprocess per image\n",
      "Results saved to \u001b[1m/home/nokan/code/donat-konan33/ClassificationWithTransferlearning/runs/detect/train6\u001b[0m\n"
     ]
    }
   ],
   "source": [
    "# Train the model on the dataset for 100 epochs\n",
    "results = model.train(data=data_path, epochs=100, imgsz=640)\n"
   ]
  },
  {
   "cell_type": "code",
   "execution_count": null,
   "id": "af14d0cb",
   "metadata": {},
   "outputs": [],
   "source": [
    "# initialize the config file\n",
    "def init_config():\n",
    "    \"\"\"\"\"\"\n",
    "    import json\n",
    "    from pathlib import Path\n",
    "    CONFIG_PATH = Path(\"../results/models/.config_model\")\n",
    "    if not CONFIG_PATH.exists():\n",
    "        CONFIG_PATH.write_text(json.dumps({\n",
    "            \"last_version\": None,\n",
    "            \"current_version\": \"v0.1.0\",\n",
    "        }, indent=4))\n"
   ]
  },
  {
   "cell_type": "code",
   "execution_count": null,
   "id": "1a555c2f",
   "metadata": {},
   "outputs": [],
   "source": [
    "def update_model_version(new_version):\n",
    "    \"\"\"\"\"\"\n",
    "    import json\n",
    "    from pathlib import Path\n",
    "    CONFIG_PATH = Path(\"../results/models/.config_model\")\n",
    "    if not CONFIG_PATH.exists():\n",
    "        init_config()\n",
    "    with open(CONFIG_PATH, \"r\") as f:\n",
    "        config = json.load(f)\n",
    "    config[\"last_version\"] = config[\"current_version\"]\n",
    "    config[\"current_version\"] = new_version\n",
    "    with open(CONFIG_PATH, \"w\") as f:\n",
    "        json.dump(config, f)\n",
    "    print(f\"Version updated : {config}\")\n"
   ]
  },
  {
   "cell_type": "code",
   "execution_count": null,
   "id": "e88cea79",
   "metadata": {},
   "outputs": [],
   "source": [
    "def save_model(model, new_version:str):\n",
    "    \"\"\"\n",
    "    Save the model to a specified path.\n",
    "    \"\"\"\n",
    "    from pathlib import Path\n",
    "    init_config()\n",
    "    save_path = \"../results/models\"\n",
    "    # check if model_name already exists in the path\n",
    "    if not Path(f\"{save_path}/yolov8_model_{new_version}.pt\").exists():\n",
    "        # Save the model\n",
    "        model.save(f\"{save_path}/yolov8_model_{new_version}.pt\")\n",
    "        print(f\"Model saved to {save_path}/yolov8_model_{new_version}.pt\")\n",
    "        update_model_version(new_version)"
   ]
  },
  {
   "cell_type": "code",
   "execution_count": 53,
   "id": "71e1d8f6",
   "metadata": {},
   "outputs": [
    {
     "name": "stdout",
     "output_type": "stream",
     "text": [
      "Model saved to ../results/models/yolov8_model_v0.1.0.pt\n",
      "Version updated : {'last_version': 'v0.1.0', 'current_version': 'v0.1.0'}\n"
     ]
    }
   ],
   "source": [
    "# save model\n",
    "save_model(model, \"v0.1.0\")"
   ]
  },
  {
   "cell_type": "code",
   "execution_count": 33,
   "id": "5c2409ed",
   "metadata": {},
   "outputs": [
    {
     "name": "stdout",
     "output_type": "stream",
     "text": [
      "\n",
      "0: 640x640 1 object, 276.5ms\n",
      "1: 640x640 1 no_object, 276.5ms\n",
      "Speed: 6.2ms preprocess, 276.5ms inference, 4.1ms postprocess per image at shape (1, 3, 640, 640)\n",
      "Results saved to \u001b[1m../results/predictions/train62\u001b[0m\n"
     ]
    }
   ],
   "source": [
    "# test the model on a single image\n",
    "no_object_image_path = \"../data/splits/test/images/no_object_1_1.jpg\"\n",
    "object_image_path = \"../data/splits/test/images/object_21_105.jpg\"\n",
    "source = [object_image_path, no_object_image_path]\n",
    "result_1 = model.predict(source=source, conf=0.25, save=True, project=\"../results/predictions\")\n"
   ]
  },
  {
   "cell_type": "code",
   "execution_count": null,
   "id": "c0256ef8",
   "metadata": {},
   "outputs": [
    {
     "data": {
      "text/plain": [
       "ultralytics.engine.results.Boxes object with attributes:\n",
       "\n",
       "cls: tensor([1.])\n",
       "conf: tensor([0.9948])\n",
       "data: tensor([[  0.0000,   0.7385, 415.9773, 415.9782,   0.9948,   1.0000]])\n",
       "id: None\n",
       "is_track: False\n",
       "orig_shape: (416, 416)\n",
       "shape: torch.Size([1, 6])\n",
       "xywh: tensor([[207.9886, 208.3584, 415.9773, 415.2396]])\n",
       "xywhn: tensor([[0.5000, 0.5009, 0.9999, 0.9982]])\n",
       "xyxy: tensor([[  0.0000,   0.7385, 415.9773, 415.9782]])\n",
       "xyxyn: tensor([[0.0000, 0.0018, 0.9999, 0.9999]])"
      ]
     },
     "execution_count": 25,
     "metadata": {},
     "output_type": "execute_result"
    }
   ],
   "source": [
    "# see the results into the boxes attribute\n",
    "result_1[0].boxes"
   ]
  },
  {
   "cell_type": "code",
   "execution_count": 26,
   "id": "7add7564",
   "metadata": {},
   "outputs": [],
   "source": [
    "%matplotlib inline\n",
    "import cv2\n",
    "import matplotlib.pyplot as plt"
   ]
  },
  {
   "cell_type": "code",
   "execution_count": 23,
   "id": "bcf85fc0",
   "metadata": {},
   "outputs": [
    {
     "data": {
      "text/plain": [
       "[ultralytics.engine.results.Results object with attributes:\n",
       " \n",
       " boxes: ultralytics.engine.results.Boxes object\n",
       " keypoints: None\n",
       " masks: None\n",
       " names: {0: 'object', 1: 'no_object'}\n",
       " obb: None\n",
       " orig_img: array([[[0, 0, 0],\n",
       "         [0, 0, 0],\n",
       "         [0, 0, 0],\n",
       "         ...,\n",
       "         [0, 0, 0],\n",
       "         [0, 0, 0],\n",
       "         [0, 0, 0]],\n",
       " \n",
       "        [[0, 0, 0],\n",
       "         [0, 0, 0],\n",
       "         [0, 0, 0],\n",
       "         ...,\n",
       "         [0, 0, 0],\n",
       "         [0, 0, 0],\n",
       "         [0, 0, 0]],\n",
       " \n",
       "        [[0, 0, 0],\n",
       "         [0, 0, 0],\n",
       "         [0, 0, 0],\n",
       "         ...,\n",
       "         [0, 0, 0],\n",
       "         [0, 0, 0],\n",
       "         [0, 0, 0]],\n",
       " \n",
       "        ...,\n",
       " \n",
       "        [[4, 4, 4],\n",
       "         [4, 4, 4],\n",
       "         [4, 4, 4],\n",
       "         ...,\n",
       "         [2, 2, 2],\n",
       "         [2, 2, 2],\n",
       "         [2, 2, 2]],\n",
       " \n",
       "        [[4, 4, 4],\n",
       "         [4, 4, 4],\n",
       "         [4, 4, 4],\n",
       "         ...,\n",
       "         [2, 2, 2],\n",
       "         [2, 2, 2],\n",
       "         [2, 2, 2]],\n",
       " \n",
       "        [[4, 4, 4],\n",
       "         [4, 4, 4],\n",
       "         [4, 4, 4],\n",
       "         ...,\n",
       "         [2, 2, 2],\n",
       "         [2, 2, 2],\n",
       "         [2, 2, 2]]], dtype=uint8)\n",
       " orig_shape: (416, 416)\n",
       " path: '/home/nokan/code/donat-konan33/ClassificationWithTransferlearning/notebooks/../data/splits/test/images/no_object_1_1.jpg'\n",
       " probs: None\n",
       " save_dir: '/home/nokan/code/donat-konan33/ClassificationWithTransferlearning/runs/detect/train62'\n",
       " speed: {'preprocess': 16.638052999041975, 'inference': 430.7792299950961, 'postprocess': 9.317810996435583}]"
      ]
     },
     "execution_count": 23,
     "metadata": {},
     "output_type": "execute_result"
    }
   ],
   "source": [
    "result_1"
   ]
  },
  {
   "cell_type": "code",
   "execution_count": 64,
   "id": "56498009",
   "metadata": {},
   "outputs": [
    {
     "data": {
      "text/plain": [
       "1"
      ]
     },
     "execution_count": 64,
     "metadata": {},
     "output_type": "execute_result"
    }
   ],
   "source": [
    "len(result_1[0].boxes)"
   ]
  },
  {
   "cell_type": "code",
   "execution_count": 63,
   "id": "1531277c",
   "metadata": {},
   "outputs": [
    {
     "name": "stdout",
     "output_type": "stream",
     "text": [
      "../results/predictions/train62\n"
     ]
    }
   ],
   "source": [
    "print(result_1[0].save_dir)"
   ]
  },
  {
   "cell_type": "code",
   "execution_count": null,
   "id": "896761bb",
   "metadata": {},
   "outputs": [],
   "source": [
    "# function to display the image with results on it\n",
    "def display_predictions_from_folder(source: list):\n",
    "    \"\"\"\n",
    "    Displays the images from the source folder with their predicted results.\n",
    "    :param source: list of image paths\n",
    "    :return: None\n",
    "    \"\"\"\n",
    "    from PIL import Image\n",
    "    import matplotlib.pyplot as plt\n",
    "    import math\n",
    "    from pathlib import Path\n",
    "    results = model.predict(source=source, conf=0.25, save=True,\n",
    "                            project=\"../results/predictions\")\n",
    "    num_images = len(source)\n",
    "    cols = 3\n",
    "    rows = math.ceil(num_images / cols)\n",
    "    result_path = Path(results[0].save_dir)\n",
    "    plt.figure(figsize=(15, 5 * rows))\n",
    "    for i, result in enumerate(result_path.iterdir()):\n",
    "        image = Image.open(result)\n",
    "        plt.subplot(rows, cols, i + 1)\n",
    "        plt.imshow(image)\n",
    "        plt.axis(\"off\")\n",
    "    plt.title(f\"Predictions_of_{result_path.name}\", fontsize=20,\n",
    "              fontweight=\"bold\", loc=\"center\")\n",
    "    plt.tight_layout()\n",
    "    plt.show()\n"
   ]
  },
  {
   "cell_type": "code",
   "execution_count": 94,
   "id": "c09a156a",
   "metadata": {},
   "outputs": [
    {
     "name": "stdout",
     "output_type": "stream",
     "text": [
      "\n",
      "0: 640x640 1 object, 331.3ms\n",
      "1: 640x640 1 no_object, 331.3ms\n",
      "Speed: 3.2ms preprocess, 331.3ms inference, 0.9ms postprocess per image at shape (1, 3, 640, 640)\n",
      "Results saved to \u001b[1m../results/predictions/train615\u001b[0m\n"
     ]
    },
    {
     "data": {
      "image/png": "[encoded data removed]",
      "text/plain": [
       "<Figure size 1500x500 with 2 Axes>"
      ]
     },
     "metadata": {},
     "output_type": "display_data"
    }
   ],
   "source": [
    "display_predictions_from_folder(source=source)"
   ]
  },
  {
   "cell_type": "markdown",
   "id": "e301dce6",
   "metadata": {},
   "source": [
    "# **Model Evaluation not with Yolov8 validation realized just after training but with Images Never Seen by it.**"
   ]
  },
  {
   "cell_type": "code",
   "execution_count": null,
   "id": "04e70b92",
   "metadata": {},
   "outputs": [
    {
     "name": "stdout",
     "output_type": "stream",
     "text": [
      "\n",
      "0: 640x640 1 no_object, 127.6ms\n",
      "1: 640x640 1 no_object, 127.6ms\n",
      "2: 640x640 1 no_object, 127.6ms\n",
      "3: 640x640 1 no_object, 127.6ms\n",
      "4: 640x640 1 no_object, 127.6ms\n",
      "5: 640x640 1 no_object, 127.6ms\n",
      "6: 640x640 1 no_object, 127.6ms\n",
      "7: 640x640 1 no_object, 127.6ms\n",
      "8: 640x640 1 no_object, 127.6ms\n",
      "9: 640x640 1 no_object, 127.6ms\n",
      "10: 640x640 1 no_object, 127.6ms\n",
      "11: 640x640 1 no_object, 127.6ms\n",
      "12: 640x640 1 no_object, 127.6ms\n",
      "13: 640x640 1 no_object, 127.6ms\n",
      "14: 640x640 1 no_object, 127.6ms\n",
      "15: 640x640 1 no_object, 127.6ms\n",
      "16: 640x640 1 no_object, 127.6ms\n",
      "17: 640x640 1 no_object, 127.6ms\n",
      "18: 640x640 1 no_object, 127.6ms\n",
      "19: 640x640 1 no_object, 127.6ms\n",
      "20: 640x640 1 no_object, 127.6ms\n",
      "21: 640x640 1 no_object, 127.6ms\n",
      "22: 640x640 1 no_object, 127.6ms\n",
      "23: 640x640 1 no_object, 127.6ms\n",
      "24: 640x640 1 no_object, 127.6ms\n",
      "25: 640x640 1 no_object, 127.6ms\n",
      "26: 640x640 1 object, 127.6ms\n",
      "27: 640x640 1 no_object, 127.6ms\n",
      "28: 640x640 1 no_object, 127.6ms\n",
      "29: 640x640 1 no_object, 127.6ms\n",
      "30: 640x640 1 no_object, 127.6ms\n",
      "31: 640x640 1 no_object, 127.6ms\n",
      "32: 640x640 1 no_object, 127.6ms\n",
      "33: 640x640 1 no_object, 127.6ms\n",
      "34: 640x640 1 no_object, 127.6ms\n",
      "35: 640x640 1 no_object, 127.6ms\n",
      "36: 640x640 1 no_object, 127.6ms\n",
      "37: 640x640 1 no_object, 127.6ms\n",
      "38: 640x640 1 no_object, 127.6ms\n",
      "39: 640x640 1 no_object, 127.6ms\n",
      "40: 640x640 1 no_object, 127.6ms\n",
      "41: 640x640 1 no_object, 127.6ms\n",
      "42: 640x640 1 no_object, 127.6ms\n",
      "43: 640x640 1 no_object, 127.6ms\n",
      "44: 640x640 1 no_object, 127.6ms\n",
      "45: 640x640 1 no_object, 127.6ms\n",
      "46: 640x640 1 no_object, 127.6ms\n",
      "47: 640x640 1 no_object, 127.6ms\n",
      "48: 640x640 1 no_object, 127.6ms\n",
      "49: 640x640 1 no_object, 127.6ms\n",
      "50: 640x640 1 no_object, 127.6ms\n",
      "51: 640x640 1 no_object, 127.6ms\n",
      "52: 640x640 1 no_object, 127.6ms\n",
      "53: 640x640 1 no_object, 127.6ms\n",
      "54: 640x640 1 no_object, 127.6ms\n",
      "55: 640x640 1 no_object, 127.6ms\n",
      "56: 640x640 1 no_object, 127.6ms\n",
      "57: 640x640 1 no_object, 127.6ms\n",
      "58: 640x640 1 no_object, 127.6ms\n",
      "59: 640x640 1 no_object, 127.6ms\n",
      "60: 640x640 1 no_object, 127.6ms\n",
      "61: 640x640 1 no_object, 127.6ms\n",
      "62: 640x640 1 no_object, 127.6ms\n",
      "63: 640x640 1 no_object, 127.6ms\n",
      "64: 640x640 1 no_object, 127.6ms\n",
      "65: 640x640 1 no_object, 127.6ms\n",
      "66: 640x640 1 no_object, 127.6ms\n",
      "67: 640x640 1 no_object, 127.6ms\n",
      "68: 640x640 1 no_object, 127.6ms\n",
      "69: 640x640 1 no_object, 127.6ms\n",
      "70: 640x640 1 no_object, 127.6ms\n",
      "71: 640x640 1 no_object, 127.6ms\n",
      "72: 640x640 1 no_object, 127.6ms\n",
      "73: 640x640 1 no_object, 127.6ms\n",
      "74: 640x640 1 no_object, 127.6ms\n",
      "75: 640x640 1 no_object, 127.6ms\n",
      "76: 640x640 1 no_object, 127.6ms\n",
      "77: 640x640 1 no_object, 127.6ms\n",
      "78: 640x640 1 no_object, 127.6ms\n",
      "79: 640x640 1 no_object, 127.6ms\n",
      "80: 640x640 1 no_object, 127.6ms\n",
      "81: 640x640 1 no_object, 127.6ms\n",
      "82: 640x640 1 no_object, 127.6ms\n",
      "83: 640x640 1 no_object, 127.6ms\n",
      "84: 640x640 1 no_object, 127.6ms\n",
      "85: 640x640 1 object, 127.6ms\n",
      "86: 640x640 1 no_object, 127.6ms\n",
      "87: 640x640 1 no_object, 127.6ms\n",
      "88: 640x640 1 object, 127.6ms\n",
      "89: 640x640 1 no_object, 127.6ms\n",
      "90: 640x640 1 object, 127.6ms\n",
      "91: 640x640 1 object, 127.6ms\n",
      "92: 640x640 1 object, 127.6ms\n",
      "93: 640x640 1 object, 127.6ms\n",
      "94: 640x640 1 object, 127.6ms\n",
      "95: 640x640 1 object, 127.6ms\n",
      "96: 640x640 1 object, 127.6ms\n",
      "97: 640x640 1 object, 127.6ms\n",
      "98: 640x640 1 object, 127.6ms\n",
      "99: 640x640 1 object, 1 no_object, 127.6ms\n",
      "100: 640x640 1 object, 127.6ms\n",
      "101: 640x640 1 object, 127.6ms\n",
      "102: 640x640 1 object, 127.6ms\n",
      "103: 640x640 1 object, 127.6ms\n",
      "104: 640x640 1 object, 127.6ms\n",
      "105: 640x640 1 object, 127.6ms\n",
      "106: 640x640 1 object, 127.6ms\n",
      "107: 640x640 1 object, 127.6ms\n",
      "108: 640x640 1 object, 127.6ms\n",
      "109: 640x640 1 object, 127.6ms\n",
      "110: 640x640 1 object, 127.6ms\n",
      "111: 640x640 1 object, 127.6ms\n",
      "112: 640x640 1 object, 127.6ms\n",
      "113: 640x640 1 object, 127.6ms\n",
      "114: 640x640 1 object, 127.6ms\n",
      "115: 640x640 1 object, 127.6ms\n",
      "116: 640x640 1 object, 127.6ms\n",
      "117: 640x640 1 object, 127.6ms\n",
      "118: 640x640 1 object, 127.6ms\n",
      "119: 640x640 1 object, 127.6ms\n",
      "120: 640x640 1 object, 127.6ms\n",
      "121: 640x640 1 object, 127.6ms\n",
      "122: 640x640 1 object, 1 no_object, 127.6ms\n",
      "123: 640x640 1 no_object, 127.6ms\n",
      "124: 640x640 1 object, 127.6ms\n",
      "125: 640x640 1 object, 127.6ms\n",
      "126: 640x640 1 object, 127.6ms\n",
      "127: 640x640 1 object, 127.6ms\n",
      "128: 640x640 1 object, 127.6ms\n",
      "129: 640x640 1 object, 127.6ms\n",
      "130: 640x640 1 no_object, 127.6ms\n",
      "131: 640x640 1 object, 127.6ms\n",
      "132: 640x640 1 object, 127.6ms\n",
      "133: 640x640 1 object, 127.6ms\n",
      "134: 640x640 1 object, 127.6ms\n",
      "135: 640x640 1 object, 127.6ms\n",
      "136: 640x640 1 object, 127.6ms\n",
      "137: 640x640 1 no_object, 127.6ms\n",
      "138: 640x640 1 object, 127.6ms\n",
      "139: 640x640 1 object, 1 no_object, 127.6ms\n",
      "140: 640x640 1 object, 127.6ms\n",
      "141: 640x640 1 object, 127.6ms\n",
      "142: 640x640 1 object, 127.6ms\n",
      "143: 640x640 1 object, 127.6ms\n",
      "144: 640x640 1 object, 127.6ms\n",
      "145: 640x640 1 object, 127.6ms\n",
      "146: 640x640 1 no_object, 127.6ms\n",
      "147: 640x640 1 object, 127.6ms\n",
      "148: 640x640 1 object, 127.6ms\n",
      "149: 640x640 1 object, 127.6ms\n",
      "150: 640x640 1 object, 127.6ms\n",
      "151: 640x640 1 object, 127.6ms\n",
      "152: 640x640 1 object, 127.6ms\n",
      "153: 640x640 1 object, 127.6ms\n",
      "154: 640x640 1 object, 127.6ms\n",
      "155: 640x640 1 object, 127.6ms\n",
      "156: 640x640 1 object, 127.6ms\n",
      "157: 640x640 1 object, 127.6ms\n",
      "158: 640x640 1 object, 127.6ms\n",
      "159: 640x640 1 object, 127.6ms\n",
      "160: 640x640 1 object, 127.6ms\n",
      "161: 640x640 1 object, 127.6ms\n",
      "162: 640x640 1 object, 127.6ms\n",
      "163: 640x640 1 object, 127.6ms\n",
      "164: 640x640 1 object, 127.6ms\n",
      "165: 640x640 1 object, 127.6ms\n",
      "Speed: 5.3ms preprocess, 127.6ms inference, 1.8ms postprocess per image at shape (1, 3, 640, 640)\n",
      "Results saved to \u001b[1m../results/predictions/train618\u001b[0m\n"
     ]
    }
   ],
   "source": [
    "test_images_path = '../data/splits/test/images'\n",
    "test_images = sorted(list((Path(test_images_path).glob(\"*.jpg\"))))\n",
    "test_results = model.predict(source=test_images, conf=0.25, save=True,\n",
    "                        project=\"../results/predictions\")\n"
   ]
  },
  {
   "cell_type": "code",
   "execution_count": 232,
   "id": "50f96639",
   "metadata": {},
   "outputs": [
    {
     "name": "stdout",
     "output_type": "stream",
     "text": [
      "\n",
      "Image: no_object_1_1.jpg\n",
      " - Class: 1, Confidence: 0.99, BBox: [0.0, 0.7385497689247131, 415.9772644042969, 415.9781799316406]\n",
      "\n",
      "Image: no_object_1_10.jpg\n",
      " - Class: 1, Confidence: 1.00, BBox: [0.0, 0.957781970500946, 416.0, 415.8806457519531]\n",
      "\n",
      "Image: no_object_1_17.jpg\n",
      " - Class: 1, Confidence: 1.00, BBox: [0.0, 0.5104705691337585, 416.0, 415.854736328125]\n",
      "\n",
      "Image: no_object_1_18.jpg\n",
      " - Class: 1, Confidence: 1.00, BBox: [0.0, 0.9851959347724915, 415.9189758300781, 415.76666259765625]\n",
      "\n",
      "Image: no_object_1_2.jpg\n",
      " - Class: 1, Confidence: 1.00, BBox: [0.0, 0.613659679889679, 415.99151611328125, 415.90032958984375]\n",
      "\n",
      "Image: no_object_1_46.jpg\n",
      " - Class: 1, Confidence: 1.00, BBox: [0.0, 0.731964111328125, 416.0, 415.86199951171875]\n",
      "\n",
      "Image: no_object_1_47.jpg\n",
      " - Class: 1, Confidence: 1.00, BBox: [0.0, 0.7016937136650085, 416.0, 416.0]\n",
      "\n",
      "Image: no_object_1_50.jpg\n",
      " - Class: 1, Confidence: 1.00, BBox: [0.0, 1.7240630388259888, 416.0, 415.9259948730469]\n",
      "\n",
      "Image: no_object_1_51.jpg\n",
      " - Class: 1, Confidence: 1.00, BBox: [0.013766479678452015, 0.5298705697059631, 415.9967346191406, 416.0]\n",
      "\n",
      "Image: no_object_1_53.jpg\n",
      " - Class: 1, Confidence: 1.00, BBox: [0.07680664211511612, 1.7982512712478638, 415.9571533203125, 416.0]\n",
      "\n",
      "Image: no_object_1_9.jpg\n",
      " - Class: 1, Confidence: 1.00, BBox: [0.0, 0.635955810546875, 416.0, 415.97039794921875]\n",
      "\n",
      "Image: no_object_2_13.jpg\n",
      " - Class: 1, Confidence: 1.00, BBox: [0.0, 1.3557006120681763, 415.94207763671875, 415.91778564453125]\n",
      "\n",
      "Image: no_object_2_2.jpg\n",
      " - Class: 1, Confidence: 0.99, BBox: [0.23930664360523224, 0.866931140422821, 415.91912841796875, 416.0]\n",
      "\n",
      "Image: no_object_2_24.jpg\n",
      " - Class: 1, Confidence: 0.99, BBox: [0.0, 0.20360107719898224, 416.0, 416.0]\n",
      "\n",
      "Image: no_object_2_25.jpg\n",
      " - Class: 1, Confidence: 0.99, BBox: [0.0, 0.4913085997104645, 416.0, 416.0]\n",
      "\n",
      "Image: no_object_2_26.jpg\n",
      " - Class: 1, Confidence: 1.00, BBox: [0.0, 0.6567443609237671, 416.0, 415.8956604003906]\n",
      "\n",
      "Image: no_object_2_3.jpg\n",
      " - Class: 1, Confidence: 0.98, BBox: [0.0, 0.8282104134559631, 416.0, 415.94769287109375]\n",
      "\n",
      "Image: no_object_2_32.jpg\n",
      " - Class: 1, Confidence: 1.00, BBox: [0.0, 1.687286376953125, 416.0, 415.8291931152344]\n",
      "\n",
      "Image: no_object_2_36.jpg\n",
      " - Class: 1, Confidence: 0.99, BBox: [0.0, 3.2116758823394775, 416.0, 416.0]\n",
      "\n",
      "Image: no_object_2_39.jpg\n",
      " - Class: 1, Confidence: 1.00, BBox: [0.0, 1.507171630859375, 416.0, 415.873291015625]\n",
      "\n",
      "Image: no_object_2_42.jpg\n",
      " - Class: 1, Confidence: 1.00, BBox: [0.0, 0.990234375, 416.0, 415.8374938964844]\n",
      "\n",
      "Image: no_object_2_47.jpg\n",
      " - Class: 1, Confidence: 1.00, BBox: [0.0, 0.637622058391571, 415.94976806640625, 415.9859619140625]\n",
      "\n",
      "Image: no_object_2_6.jpg\n",
      " - Class: 1, Confidence: 1.00, BBox: [0.0, 1.6558257341384888, 415.8661804199219, 415.96337890625]\n",
      "\n",
      "Image: no_object_2_7.jpg\n",
      " - Class: 1, Confidence: 1.00, BBox: [0.0380859375, 0.546771228313446, 415.89788818359375, 415.9819030761719]\n",
      "\n",
      "Image: no_object_3_105.jpg\n",
      " - Class: 1, Confidence: 0.99, BBox: [0.00896606408059597, 0.0, 416.0, 415.9949951171875]\n",
      "\n",
      "Image: no_object_3_107.jpg\n",
      " - Class: 1, Confidence: 0.99, BBox: [0.0, 0.0, 416.0, 415.9515380859375]\n",
      "\n",
      "Image: no_object_3_109.jpg\n",
      " - Class: 0, Confidence: 0.82, BBox: [0.0, 0.0, 415.9165344238281, 416.0]\n",
      "\n",
      "Image: no_object_3_14.jpg\n",
      " - Class: 1, Confidence: 1.00, BBox: [0.396728515625, 0.03165893629193306, 415.8524169921875, 415.9972229003906]\n",
      "\n",
      "Image: no_object_3_16.jpg\n",
      " - Class: 1, Confidence: 1.00, BBox: [0.0, 1.9455963373184204, 416.0, 416.0]\n",
      "\n",
      "Image: no_object_3_22.jpg\n",
      " - Class: 1, Confidence: 0.99, BBox: [0.10628356784582138, 0.532330334186554, 416.0, 416.0]\n",
      "\n",
      "Image: no_object_3_24.jpg\n",
      " - Class: 1, Confidence: 0.95, BBox: [0.0, 0.8862518072128296, 416.0, 415.86761474609375]\n",
      "\n",
      "Image: no_object_3_35.jpg\n",
      " - Class: 1, Confidence: 0.93, BBox: [0.0, 0.39625242352485657, 415.9129638671875, 415.89715576171875]\n",
      "\n",
      "Image: no_object_3_36.jpg\n",
      " - Class: 1, Confidence: 0.97, BBox: [0.002618408063426614, 2.427978515625, 416.0, 415.996337890625]\n",
      "\n",
      "Image: no_object_3_47.jpg\n",
      " - Class: 1, Confidence: 0.99, BBox: [0.0, 0.0, 416.0, 416.0]\n",
      "\n",
      "Image: no_object_3_49.jpg\n",
      " - Class: 1, Confidence: 1.00, BBox: [0.01908264122903347, 1.3602629899978638, 416.0, 415.99700927734375]\n",
      "\n",
      "Image: no_object_3_55.jpg\n",
      " - Class: 1, Confidence: 0.98, BBox: [0.0, 0.0, 416.0, 416.0]\n",
      "\n",
      "Image: no_object_3_57.jpg\n",
      " - Class: 1, Confidence: 1.00, BBox: [0.597869873046875, 0.19245299696922302, 416.0, 416.0]\n",
      "\n",
      "Image: no_object_3_61.jpg\n",
      " - Class: 1, Confidence: 1.00, BBox: [0.0, 0.0, 416.0, 415.9020690917969]\n",
      "\n",
      "Image: no_object_3_7.jpg\n",
      " - Class: 1, Confidence: 0.99, BBox: [0.0, 0.0, 416.0, 415.9702453613281]\n",
      "\n",
      "Image: no_object_3_74.jpg\n",
      " - Class: 1, Confidence: 1.00, BBox: [0.12774658203125, 0.120208740234375, 415.9911193847656, 416.0]\n",
      "\n",
      "Image: no_object_3_77.jpg\n",
      " - Class: 1, Confidence: 1.00, BBox: [0.17709960043430328, 0.45115965604782104, 416.0, 415.83734130859375]\n",
      "\n",
      "Image: no_object_3_82.jpg\n",
      " - Class: 1, Confidence: 0.90, BBox: [0.0, 1.3856536149978638, 416.0, 415.94366455078125]\n",
      "\n",
      "Image: no_object_3_96.jpg\n",
      " - Class: 1, Confidence: 0.77, BBox: [0.0, 1.1726897954940796, 416.0, 416.0]\n",
      "\n",
      "Image: no_object_4_120.jpg\n",
      " - Class: 1, Confidence: 1.00, BBox: [0.2332763671875, 0.11588440090417862, 415.97222900390625, 416.0]\n",
      "\n",
      "Image: no_object_4_124.jpg\n",
      " - Class: 1, Confidence: 1.00, BBox: [0.19439697265625, 0.4393768310546875, 416.0, 416.0]\n",
      "\n",
      "Image: no_object_4_130.jpg\n",
      " - Class: 1, Confidence: 0.99, BBox: [0.06157226487994194, 0.0, 416.0, 415.98822021484375]\n",
      "\n",
      "Image: no_object_4_132.jpg\n",
      " - Class: 1, Confidence: 0.98, BBox: [0.0, 1.3261443376541138, 416.0, 416.0]\n",
      "\n",
      "Image: no_object_4_143.jpg\n",
      " - Class: 1, Confidence: 0.98, BBox: [0.08585204929113388, 0.17329101264476776, 416.0, 416.0]\n",
      "\n",
      "Image: no_object_4_145.jpg\n",
      " - Class: 1, Confidence: 0.99, BBox: [0.0, 0.7107787728309631, 416.0, 416.0]\n",
      "\n",
      "Image: no_object_4_151.jpg\n",
      " - Class: 1, Confidence: 0.97, BBox: [0.0, 0.3818115293979645, 416.0, 416.0]\n",
      "\n",
      "Image: no_object_4_155.jpg\n",
      " - Class: 1, Confidence: 0.98, BBox: [0.0, 0.0039276122115552425, 416.0, 416.0]\n",
      "\n",
      "Image: no_object_4_156.jpg\n",
      " - Class: 1, Confidence: 0.97, BBox: [0.0, 0.27009275555610657, 416.0, 416.0]\n",
      "\n",
      "Image: no_object_4_164.jpg\n",
      " - Class: 1, Confidence: 0.90, BBox: [0.0, 1.1940734386444092, 415.8802490234375, 416.0]\n",
      "\n",
      "Image: no_object_4_166.jpg\n",
      " - Class: 1, Confidence: 0.99, BBox: [0.0, 0.10739440470933914, 416.0, 416.0]\n",
      "\n",
      "Image: no_object_4_167.jpg\n",
      " - Class: 1, Confidence: 1.00, BBox: [0.0, 0.7971862554550171, 415.9202880859375, 416.0]\n",
      "\n",
      "Image: no_object_4_168.jpg\n",
      " - Class: 1, Confidence: 0.99, BBox: [0.0, 0.01333007775247097, 415.9783630371094, 415.9278564453125]\n",
      "\n",
      "Image: no_object_4_170.jpg\n",
      " - Class: 1, Confidence: 0.96, BBox: [0.0, 0.14686889946460724, 416.0, 415.888671875]\n",
      "\n",
      "Image: no_object_4_178.jpg\n",
      " - Class: 1, Confidence: 1.00, BBox: [0.0, 0.8225372433662415, 416.0, 416.0]\n",
      "\n",
      "Image: no_object_4_18.jpg\n",
      " - Class: 1, Confidence: 1.00, BBox: [0.011862182058393955, 0.0555419921875, 415.9697570800781, 415.93902587890625]\n",
      "\n",
      "Image: no_object_4_183.jpg\n",
      " - Class: 1, Confidence: 0.98, BBox: [0.0, 0.25239866971969604, 416.0, 416.0]\n",
      "\n",
      "Image: no_object_4_186.jpg\n",
      " - Class: 1, Confidence: 0.99, BBox: [0.0, 0.20959167182445526, 416.0, 415.97821044921875]\n",
      "\n",
      "Image: no_object_4_190.jpg\n",
      " - Class: 1, Confidence: 0.99, BBox: [0.05078125, 0.0, 416.0, 415.94549560546875]\n",
      "\n",
      "Image: no_object_4_191.jpg\n",
      " - Class: 1, Confidence: 0.99, BBox: [0.0, 1.1154814958572388, 416.0, 415.9534606933594]\n",
      "\n",
      "Image: no_object_4_200.jpg\n",
      " - Class: 1, Confidence: 0.91, BBox: [0.0, 0.6013213992118835, 416.0, 415.9758605957031]\n",
      "\n",
      "Image: no_object_4_28.jpg\n",
      " - Class: 1, Confidence: 0.97, BBox: [0.0, 0.13238830864429474, 415.98956298828125, 416.0]\n",
      "\n",
      "Image: no_object_4_29.jpg\n",
      " - Class: 1, Confidence: 0.99, BBox: [0.0, 0.22260436415672302, 416.0, 416.0]\n",
      "\n",
      "Image: no_object_4_33.jpg\n",
      " - Class: 1, Confidence: 1.00, BBox: [0.0, 0.0, 415.9898681640625, 415.9635009765625]\n",
      "\n",
      "Image: no_object_4_34.jpg\n",
      " - Class: 1, Confidence: 1.00, BBox: [0.15258178114891052, 0.0, 416.0, 416.0]\n",
      "\n",
      "Image: no_object_4_42.jpg\n",
      " - Class: 1, Confidence: 1.00, BBox: [0.18340758979320526, 0.0, 416.0, 415.80499267578125]\n",
      "\n",
      "Image: no_object_4_6.jpg\n",
      " - Class: 1, Confidence: 0.99, BBox: [0.0672454833984375, 0.0, 416.0, 416.0]\n",
      "\n",
      "Image: no_object_4_65.jpg\n",
      " - Class: 1, Confidence: 0.99, BBox: [0.0, 0.0, 416.0, 415.95587158203125]\n",
      "\n",
      "Image: no_object_4_79.jpg\n",
      " - Class: 1, Confidence: 0.99, BBox: [0.326507568359375, 0.524871826171875, 416.0, 416.0]\n",
      "\n",
      "Image: no_object_4_82.jpg\n",
      " - Class: 1, Confidence: 0.99, BBox: [0.0, 0.07129210978746414, 416.0, 416.0]\n",
      "\n",
      "Image: no_object_4_84.jpg\n",
      " - Class: 1, Confidence: 1.00, BBox: [0.15662841498851776, 0.31333616375923157, 416.0, 416.0]\n",
      "\n",
      "Image: no_object_4_95.jpg\n",
      " - Class: 1, Confidence: 0.83, BBox: [0.11378173530101776, 1.3176146745681763, 416.0, 415.4132995605469]\n",
      "\n",
      "Image: no_object_4_99.jpg\n",
      " - Class: 1, Confidence: 1.00, BBox: [0.0267791748046875, 0.5330840945243835, 415.8987121582031, 416.0]\n",
      "\n",
      "Image: no_object_5_107.jpg\n",
      " - Class: 1, Confidence: 1.00, BBox: [0.0, 0.0, 416.0, 416.0]\n",
      "\n",
      "Image: no_object_5_121.jpg\n",
      " - Class: 1, Confidence: 1.00, BBox: [0.04530639573931694, 1.3738311529159546, 416.0, 416.0]\n",
      "\n",
      "Image: no_object_5_2.jpg\n",
      " - Class: 1, Confidence: 0.95, BBox: [0.0, 0.4449706971645355, 415.9670715332031, 416.0]\n",
      "\n",
      "Image: no_object_5_39.jpg\n",
      " - Class: 1, Confidence: 1.00, BBox: [0.265768438577652, 1.547796607017517, 416.0, 416.0]\n",
      "\n",
      "Image: no_object_5_40.jpg\n",
      " - Class: 1, Confidence: 0.97, BBox: [0.0, 0.17253722250461578, 415.971435546875, 415.8703308105469]\n",
      "\n",
      "Image: no_object_5_49.jpg\n",
      " - Class: 1, Confidence: 0.98, BBox: [0.0, 0.12980957329273224, 415.89691162109375, 416.0]\n",
      "\n",
      "Image: no_object_5_50.jpg\n",
      " - Class: 1, Confidence: 1.00, BBox: [0.13453063368797302, 0.28278806805610657, 415.9068908691406, 416.0]\n",
      "\n",
      "Image: no_object_5_69.jpg\n",
      " - Class: 1, Confidence: 0.99, BBox: [0.0, 0.0, 416.0, 416.0]\n",
      "\n",
      "Image: no_object_5_70.jpg\n",
      " - Class: 1, Confidence: 0.99, BBox: [0.0, 0.12175597995519638, 416.0, 416.0]\n",
      "\n",
      "Image: no_object_5_76.jpg\n",
      " - Class: 0, Confidence: 0.78, BBox: [0.0, 0.5084472298622131, 416.0, 416.0]\n",
      "\n",
      "Image: no_object_5_78.jpg\n",
      " - Class: 1, Confidence: 0.91, BBox: [0.0, 0.18435974419116974, 416.0, 415.9594421386719]\n",
      "\n",
      "Image: no_object_5_85.jpg\n",
      " - Class: 1, Confidence: 0.97, BBox: [0.0, 0.32484129071235657, 416.0, 416.0]\n",
      "\n",
      "Image: object_10_4.jpg\n",
      " - Class: 0, Confidence: 0.97, BBox: [0.0, 0.935089111328125, 416.0, 416.0]\n",
      "\n",
      "Image: object_10_40.jpg\n",
      " - Class: 1, Confidence: 0.99, BBox: [0.0, 0.45020750164985657, 416.0, 415.97833251953125]\n",
      "\n",
      "Image: object_11_103.jpg\n",
      " - Class: 0, Confidence: 0.99, BBox: [0.0, 0.574938952922821, 415.93170166015625, 416.0]\n",
      "\n",
      "Image: object_11_106.jpg\n",
      " - Class: 0, Confidence: 1.00, BBox: [0.0, 0.9716277718544006, 415.5729675292969, 416.0]\n",
      "\n",
      "Image: object_11_113.jpg\n",
      " - Class: 0, Confidence: 0.97, BBox: [0.0, 1.062597632408142, 416.0, 415.3149108886719]\n",
      "\n",
      "Image: object_11_119.jpg\n",
      " - Class: 0, Confidence: 1.00, BBox: [0.0, 0.0, 415.9380187988281, 415.98492431640625]\n",
      "\n",
      "Image: object_11_120.jpg\n",
      " - Class: 0, Confidence: 1.00, BBox: [0.0, 0.5992584228515625, 416.0, 416.0]\n",
      "\n",
      "Image: object_11_123.jpg\n",
      " - Class: 0, Confidence: 1.00, BBox: [0.0, 0.804644763469696, 415.9661865234375, 416.0]\n",
      "\n",
      "Image: object_11_160.jpg\n",
      " - Class: 0, Confidence: 1.00, BBox: [0.0, 0.053558349609375, 415.9002685546875, 415.8147277832031]\n",
      "\n",
      "Image: object_11_164.jpg\n",
      " - Class: 0, Confidence: 0.99, BBox: [0.0, 0.0, 415.8055114746094, 416.0]\n",
      "\n",
      "Image: object_11_87.jpg\n",
      " - Class: 0, Confidence: 0.99, BBox: [0.0, 0.0, 415.9919738769531, 416.0]\n",
      "\n",
      "Image: object_12_109.jpg\n",
      " - Class: 1, Confidence: 0.59, BBox: [0.0, 0.3207153379917145, 416.0, 415.7445068359375]\n",
      " - Class: 0, Confidence: 0.46, BBox: [0.0, 0.19899901747703552, 416.0, 415.4083251953125]\n",
      "\n",
      "Image: object_12_3.jpg\n",
      " - Class: 0, Confidence: 1.00, BBox: [0.0, 0.6000121831893921, 415.96612548828125, 415.8753356933594]\n",
      "\n",
      "Image: object_12_30.jpg\n",
      " - Class: 0, Confidence: 0.99, BBox: [0.0, 0.46012571454048157, 416.0, 415.8209228515625]\n",
      "\n",
      "Image: object_12_43.jpg\n",
      " - Class: 0, Confidence: 1.00, BBox: [0.0, 1.1572967767715454, 415.884033203125, 415.9604797363281]\n",
      "\n",
      "Image: object_12_5.jpg\n",
      " - Class: 0, Confidence: 1.00, BBox: [0.0, 1.0671203136444092, 415.9176025390625, 416.0]\n",
      "\n",
      "Image: object_12_86.jpg\n",
      " - Class: 0, Confidence: 0.78, BBox: [0.0, 0.10227660834789276, 415.9772644042969, 415.96746826171875]\n",
      "\n",
      "Image: object_13_14.jpg\n",
      " - Class: 0, Confidence: 1.00, BBox: [0.0, 0.889862060546875, 415.98809814453125, 415.886474609375]\n",
      "\n",
      "Image: object_13_71.jpg\n",
      " - Class: 0, Confidence: 1.00, BBox: [0.0, 0.335989385843277, 415.9813537597656, 416.0]\n",
      "\n",
      "Image: object_13_83.jpg\n",
      " - Class: 0, Confidence: 0.96, BBox: [0.0, 0.769335925579071, 416.0, 415.9459533691406]\n",
      "\n",
      "Image: object_13_95.jpg\n",
      " - Class: 0, Confidence: 1.00, BBox: [0.0, 0.584857165813446, 416.0, 416.0]\n",
      "\n",
      "Image: object_14_21.jpg\n",
      " - Class: 0, Confidence: 0.99, BBox: [0.0, 1.3664122819900513, 416.0, 415.9900207519531]\n",
      "\n",
      "Image: object_14_77.jpg\n",
      " - Class: 0, Confidence: 1.00, BBox: [0.0, 0.2870330810546875, 416.0, 415.9579772949219]\n",
      "\n",
      "Image: object_14_82.jpg\n",
      " - Class: 0, Confidence: 0.99, BBox: [0.0, 0.3631652891635895, 415.9598083496094, 414.9480285644531]\n",
      "\n",
      "Image: object_15_103.jpg\n",
      " - Class: 0, Confidence: 1.00, BBox: [0.0, 1.1680877208709717, 415.89715576171875, 416.0]\n",
      "\n",
      "Image: object_16_112.jpg\n",
      " - Class: 0, Confidence: 1.00, BBox: [0.0, 0.6078277230262756, 415.8855895996094, 415.8036804199219]\n",
      "\n",
      "Image: object_16_44.jpg\n",
      " - Class: 0, Confidence: 1.00, BBox: [0.0, 0.7690978646278381, 415.9188232421875, 415.9601745605469]\n",
      "\n",
      "Image: object_16_45.jpg\n",
      " - Class: 0, Confidence: 1.00, BBox: [0.10045165568590164, 0.40037840604782104, 415.9763488769531, 415.8716125488281]\n",
      "\n",
      "Image: object_16_51.jpg\n",
      " - Class: 0, Confidence: 1.00, BBox: [0.0, 1.636663794517517, 416.0, 415.8657531738281]\n",
      "\n",
      "Image: object_16_83.jpg\n",
      " - Class: 0, Confidence: 1.00, BBox: [0.07847289741039276, 0.41624754667282104, 415.94232177734375, 415.8769226074219]\n",
      "\n",
      "Image: object_16_86.jpg\n",
      " - Class: 0, Confidence: 1.00, BBox: [0.0, 0.23383177816867828, 416.0, 415.8739929199219]\n",
      "\n",
      "Image: object_17_91.jpg\n",
      " - Class: 0, Confidence: 1.00, BBox: [0.0, 0.50146484375, 415.9261474609375, 415.91143798828125]\n",
      "\n",
      "Image: object_17_98.jpg\n",
      " - Class: 0, Confidence: 1.00, BBox: [0.0, 0.683563232421875, 415.9716796875, 415.9520568847656]\n",
      "\n",
      "Image: object_18_107.jpg\n",
      " - Class: 0, Confidence: 1.00, BBox: [0.0, 0.0, 416.0, 415.8489990234375]\n",
      "\n",
      "Image: object_18_16.jpg\n",
      " - Class: 0, Confidence: 0.66, BBox: [0.0, 0.747039794921875, 415.9781799316406, 415.654296875]\n",
      " - Class: 1, Confidence: 0.54, BBox: [0.0, 0.31650999188423157, 416.0, 415.9818115234375]\n",
      "\n",
      "Image: object_18_37.jpg\n",
      " - Class: 1, Confidence: 0.92, BBox: [0.0, 0.0, 415.9995422363281, 416.0]\n",
      "\n",
      "Image: object_18_47.jpg\n",
      " - Class: 0, Confidence: 0.99, BBox: [0.0, 0.37451171875, 416.0, 415.83758544921875]\n",
      "\n",
      "Image: object_18_59.jpg\n",
      " - Class: 0, Confidence: 1.00, BBox: [0.0, 0.2604522705078125, 415.90960693359375, 415.820556640625]\n",
      "\n",
      "Image: object_19_24.jpg\n",
      " - Class: 0, Confidence: 0.99, BBox: [0.0, 0.7155395150184631, 416.0, 415.73291015625]\n",
      "\n",
      "Image: object_19_48.jpg\n",
      " - Class: 0, Confidence: 0.99, BBox: [0.0, 1.3649444580078125, 415.8442687988281, 415.98431396484375]\n",
      "\n",
      "Image: object_19_63.jpg\n",
      " - Class: 0, Confidence: 1.00, BBox: [0.0, 0.21776427328586578, 415.8997802734375, 415.97003173828125]\n",
      "\n",
      "Image: object_1_2.jpg\n",
      " - Class: 0, Confidence: 0.99, BBox: [0.0, 2.032757520675659, 416.0, 415.85662841796875]\n",
      "\n",
      "Image: object_1_54.jpg\n",
      " - Class: 1, Confidence: 0.99, BBox: [0.0, 0.0, 416.0, 416.0]\n",
      "\n",
      "Image: object_20_1.jpg\n",
      " - Class: 0, Confidence: 1.00, BBox: [0.0, 0.5305846929550171, 416.0, 415.8163146972656]\n",
      "\n",
      "Image: object_21_105.jpg\n",
      " - Class: 0, Confidence: 0.97, BBox: [0.0, 0.682293713092804, 416.0, 415.8933410644531]\n",
      "\n",
      "Image: object_21_21.jpg\n",
      " - Class: 0, Confidence: 0.98, BBox: [0.0, 0.613739013671875, 416.0, 415.9618225097656]\n",
      "\n",
      "Image: object_21_34.jpg\n",
      " - Class: 0, Confidence: 0.99, BBox: [0.0, 0.4810333251953125, 415.8552551269531, 415.8711242675781]\n",
      "\n",
      "Image: object_21_49.jpg\n",
      " - Class: 0, Confidence: 0.98, BBox: [0.011862182058393955, 0.0, 416.0, 415.7606201171875]\n",
      "\n",
      "Image: object_21_64.jpg\n",
      " - Class: 0, Confidence: 0.97, BBox: [0.0, 0.5040038824081421, 416.0, 416.0]\n",
      "\n",
      "Image: object_21_77.jpg\n",
      " - Class: 1, Confidence: 0.90, BBox: [0.0, 0.45357969403266907, 415.9799499511719, 415.8729553222656]\n",
      "\n",
      "Image: object_21_98.jpg\n",
      " - Class: 0, Confidence: 1.00, BBox: [0.0, 0.394744873046875, 415.9521789550781, 415.82598876953125]\n",
      "\n",
      "Image: object_2_29.jpg\n",
      " - Class: 0, Confidence: 0.95, BBox: [0.0, 0.0, 416.0, 415.93505859375]\n",
      " - Class: 1, Confidence: 0.34, BBox: [0.25977781414985657, 0.0, 416.0, 415.91217041015625]\n",
      "\n",
      "Image: object_2_31.jpg\n",
      " - Class: 0, Confidence: 0.99, BBox: [0.0, 0.0, 416.0, 415.8996276855469]\n",
      "\n",
      "Image: object_2_53.jpg\n",
      " - Class: 0, Confidence: 0.99, BBox: [0.0, 0.0, 415.84136962890625, 416.0]\n",
      "\n",
      "Image: object_2_74.jpg\n",
      " - Class: 0, Confidence: 1.00, BBox: [0.0, 0.36685484647750854, 416.0, 415.96343994140625]\n",
      "\n",
      "Image: object_3_4.jpg\n",
      " - Class: 0, Confidence: 1.00, BBox: [0.0, 0.91802978515625, 416.0, 415.7768859863281]\n",
      "\n",
      "Image: object_4_44.jpg\n",
      " - Class: 0, Confidence: 1.00, BBox: [0.0, 0.9031921029090881, 416.0, 415.88970947265625]\n",
      "\n",
      "Image: object_4_51.jpg\n",
      " - Class: 0, Confidence: 1.00, BBox: [0.0, 1.109887719154358, 416.0, 415.8924865722656]\n",
      "\n",
      "Image: object_5_103.jpg\n",
      " - Class: 1, Confidence: 0.92, BBox: [0.0, 0.7055419683456421, 416.0, 415.8435974121094]\n",
      "\n",
      "Image: object_5_116.jpg\n",
      " - Class: 0, Confidence: 1.00, BBox: [0.0, 2.464556932449341, 415.93682861328125, 415.8741455078125]\n",
      "\n",
      "Image: object_5_13.jpg\n",
      " - Class: 0, Confidence: 1.00, BBox: [0.03753051534295082, 0.7750884890556335, 415.9020690917969, 415.89300537109375]\n",
      "\n",
      "Image: object_5_135.jpg\n",
      " - Class: 0, Confidence: 1.00, BBox: [0.0, 1.120599389076233, 415.9942321777344, 416.0]\n",
      "\n",
      "Image: object_5_145.jpg\n",
      " - Class: 0, Confidence: 1.00, BBox: [0.0, 0.9717468023300171, 415.9315185546875, 416.0]\n",
      "\n",
      "Image: object_5_2.jpg\n",
      " - Class: 0, Confidence: 0.98, BBox: [0.0, 1.2473937273025513, 415.9206848144531, 415.8356628417969]\n",
      "\n",
      "Image: object_5_24.jpg\n",
      " - Class: 0, Confidence: 1.00, BBox: [0.0, 1.5959594249725342, 416.0, 415.926513671875]\n",
      "\n",
      "Image: object_5_56.jpg\n",
      " - Class: 0, Confidence: 1.00, BBox: [0.0, 1.179632544517517, 415.9779357910156, 415.9369812011719]\n",
      "\n",
      "Image: object_5_85.jpg\n",
      " - Class: 0, Confidence: 0.99, BBox: [0.0, 0.25628662109375, 415.83709716796875, 415.87225341796875]\n",
      "\n",
      "Image: object_6_37.jpg\n",
      " - Class: 0, Confidence: 0.99, BBox: [0.0, 0.7091918587684631, 416.0, 415.9759521484375]\n",
      "\n",
      "Image: object_7_26.jpg\n",
      " - Class: 0, Confidence: 0.99, BBox: [0.0, 0.32722166180610657, 416.0, 415.90716552734375]\n",
      "\n",
      "Image: object_8_39.jpg\n",
      " - Class: 0, Confidence: 1.00, BBox: [0.0061096190474927425, 0.5383208990097046, 416.0, 415.8134765625]\n",
      "\n",
      "Image: object_8_41.jpg\n",
      " - Class: 0, Confidence: 1.00, BBox: [0.21391601860523224, 0.525585949420929, 416.0, 415.91143798828125]\n",
      "\n",
      "Image: object_8_5.jpg\n",
      " - Class: 0, Confidence: 1.00, BBox: [0.0, 0.0, 416.0, 415.96722412109375]\n",
      "\n",
      "Image: object_8_90.jpg\n",
      " - Class: 0, Confidence: 1.00, BBox: [0.08716125041246414, 0.0, 416.0, 415.8655700683594]\n",
      "\n",
      "Image: object_9_118.jpg\n",
      " - Class: 0, Confidence: 1.00, BBox: [0.0, 0.32135009765625, 415.96246337890625, 415.90423583984375]\n",
      "\n",
      "Image: object_9_36.jpg\n",
      " - Class: 0, Confidence: 1.00, BBox: [0.0, 0.178131103515625, 416.0, 415.83441162109375]\n",
      "\n",
      "Image: object_9_60.jpg\n",
      " - Class: 0, Confidence: 1.00, BBox: [0.0, 0.347097784280777, 415.96380615234375, 415.658935546875]\n",
      "\n",
      "Image: object_9_78.jpg\n",
      " - Class: 0, Confidence: 1.00, BBox: [0.0, 0.629925549030304, 415.94781494140625, 415.86279296875]\n",
      "\n",
      "Image: object_9_90.jpg\n",
      " - Class: 0, Confidence: 0.99, BBox: [0.0, 0.5654968023300171, 416.0, 415.8536682128906]\n"
     ]
    }
   ],
   "source": [
    "# get predictions according to each box\n",
    "for img_path, result in zip(test_images, test_results):\n",
    "    print(f\"\\nImage: {img_path.name}\")\n",
    "    for box in result.boxes:\n",
    "        cls = int(box.cls[0])  # predicted class\n",
    "        conf = float(box.conf[0])  # confidence score\n",
    "        xyxy = box.xyxy[0].tolist()  # coordinates [x1, y1, x2, y2]\n",
    "        print(f\" - Class: {cls}, Confidence: {conf:.2f}, BBox: {xyxy}\")"
   ]
  },
  {
   "cell_type": "code",
   "execution_count": 157,
   "id": "abd7698f",
   "metadata": {},
   "outputs": [
    {
     "data": {
      "text/plain": [
       "166"
      ]
     },
     "execution_count": 157,
     "metadata": {},
     "output_type": "execute_result"
    }
   ],
   "source": [
    "len(test_results)"
   ]
  },
  {
   "cell_type": "code",
   "execution_count": 151,
   "id": "d9068288",
   "metadata": {},
   "outputs": [
    {
     "name": "stdout",
     "output_type": "stream",
     "text": [
      "169 ['1', '1', '1', '1', '1', '1', '1', '1', '1', '1', '1', '1', '1', '1', '1', '1', '1', '1', '1', '1', '1', '1', '1', '1', '1', '1', '0', '1', '1', '1', '1', '1', '1', '1', '1', '1', '1', '1', '1', '1', '1', '1', '1', '1', '1', '1', '1', '1', '1', '1', '1', '1', '1', '1', '1', '1', '1', '1', '1', '1', '1', '1', '1', '1', '1', '1', '1', '1', '1', '1', '1', '1', '1', '1', '1', '1', '1', '1', '1', '1', '1', '1', '1', '1', '1', '0', '1', '1', '0', '1', '0', '0', '0', '0', '0', '0', '0', '0', '0', '1', '0', '0', '0', '0', '0', '0', '0', '0', '0', '0', '0', '0', '0', '0', '0', '0', '0', '0', '0', '0', '0', '0', '0', '0', '1', '1', '0', '0', '0', '0', '0', '0', '1', '0', '0', '0', '0', '0', '0', '1', '0', '0', '1', '0', '0', '0', '0', '0', '0', '1', '0', '0', '0', '0', '0', '0', '0', '0', '0', '0', '0', '0', '0', '0', '0', '0', '0', '0', '0']\n"
     ]
    }
   ],
   "source": [
    "# get predicted labels\n",
    "test_classes = [str(int(box.cls[0])) for result in test_results for box in result.boxes]\n",
    "print(len(test_classes), test_classes)"
   ]
  },
  {
   "cell_type": "markdown",
   "id": "1daf18cb",
   "metadata": {},
   "source": [
    "#### ``len(test_classes) > len(test_results)`` ==> Some images may have more than 1 predicted box "
   ]
  },
  {
   "cell_type": "code",
   "execution_count": null,
   "id": "ff3fa6b0",
   "metadata": {},
   "outputs": [
    {
     "name": "stdout",
     "output_type": "stream",
     "text": [
      "\n",
      "0: 640x640 1 object, 1 no_object, 447.9ms\n",
      "1: 640x640 1 object, 1 no_object, 447.9ms\n",
      "2: 640x640 1 object, 1 no_object, 447.9ms\n",
      "Speed: 37.0ms preprocess, 447.9ms inference, 5.4ms postprocess per image at shape (1, 3, 640, 640)\n",
      "Results saved to \u001b[1m../results/predictions/train619\u001b[0m\n"
     ]
    },
    {
     "data": {
      "image/png": "[encoded data removed]",
      "text/plain": [
       "<Figure size 1500x500 with 3 Axes>"
      ]
     },
     "metadata": {},
     "output_type": "display_data"
    }
   ],
   "source": [
    "# let Check and look\n",
    "multi_object_images = [\n",
    "    img_path for i, (result, img_path) in enumerate(zip(test_results, test_images)) if len(result.boxes) > 1\n",
    "]\n",
    "# Display the images with multiple objects\n",
    "display_predictions_from_folder(source=multi_object_images)"
   ]
  },
  {
   "cell_type": "code",
   "execution_count": 141,
   "id": "542dbba9",
   "metadata": {},
   "outputs": [
    {
     "name": "stdout",
     "output_type": "stream",
     "text": [
      "166 [PosixPath('../data/splits/test/labels/no_object_1_1.txt'), PosixPath('../data/splits/test/labels/no_object_1_10.txt'), PosixPath('../data/splits/test/labels/no_object_1_17.txt'), PosixPath('../data/splits/test/labels/no_object_1_18.txt'), PosixPath('../data/splits/test/labels/no_object_1_2.txt'), PosixPath('../data/splits/test/labels/no_object_1_46.txt'), PosixPath('../data/splits/test/labels/no_object_1_47.txt'), PosixPath('../data/splits/test/labels/no_object_1_50.txt'), PosixPath('../data/splits/test/labels/no_object_1_51.txt'), PosixPath('../data/splits/test/labels/no_object_1_53.txt'), PosixPath('../data/splits/test/labels/no_object_1_9.txt'), PosixPath('../data/splits/test/labels/no_object_2_13.txt'), PosixPath('../data/splits/test/labels/no_object_2_2.txt'), PosixPath('../data/splits/test/labels/no_object_2_24.txt'), PosixPath('../data/splits/test/labels/no_object_2_25.txt'), PosixPath('../data/splits/test/labels/no_object_2_26.txt'), PosixPath('../data/splits/test/labels/no_object_2_3.txt'), PosixPath('../data/splits/test/labels/no_object_2_32.txt'), PosixPath('../data/splits/test/labels/no_object_2_36.txt'), PosixPath('../data/splits/test/labels/no_object_2_39.txt'), PosixPath('../data/splits/test/labels/no_object_2_42.txt'), PosixPath('../data/splits/test/labels/no_object_2_47.txt'), PosixPath('../data/splits/test/labels/no_object_2_6.txt'), PosixPath('../data/splits/test/labels/no_object_2_7.txt'), PosixPath('../data/splits/test/labels/no_object_3_105.txt'), PosixPath('../data/splits/test/labels/no_object_3_107.txt'), PosixPath('../data/splits/test/labels/no_object_3_109.txt'), PosixPath('../data/splits/test/labels/no_object_3_14.txt'), PosixPath('../data/splits/test/labels/no_object_3_16.txt'), PosixPath('../data/splits/test/labels/no_object_3_22.txt'), PosixPath('../data/splits/test/labels/no_object_3_24.txt'), PosixPath('../data/splits/test/labels/no_object_3_35.txt'), PosixPath('../data/splits/test/labels/no_object_3_36.txt'), PosixPath('../data/splits/test/labels/no_object_3_47.txt'), PosixPath('../data/splits/test/labels/no_object_3_49.txt'), PosixPath('../data/splits/test/labels/no_object_3_55.txt'), PosixPath('../data/splits/test/labels/no_object_3_57.txt'), PosixPath('../data/splits/test/labels/no_object_3_61.txt'), PosixPath('../data/splits/test/labels/no_object_3_7.txt'), PosixPath('../data/splits/test/labels/no_object_3_74.txt'), PosixPath('../data/splits/test/labels/no_object_3_77.txt'), PosixPath('../data/splits/test/labels/no_object_3_82.txt'), PosixPath('../data/splits/test/labels/no_object_3_96.txt'), PosixPath('../data/splits/test/labels/no_object_4_120.txt'), PosixPath('../data/splits/test/labels/no_object_4_124.txt'), PosixPath('../data/splits/test/labels/no_object_4_130.txt'), PosixPath('../data/splits/test/labels/no_object_4_132.txt'), PosixPath('../data/splits/test/labels/no_object_4_143.txt'), PosixPath('../data/splits/test/labels/no_object_4_145.txt'), PosixPath('../data/splits/test/labels/no_object_4_151.txt'), PosixPath('../data/splits/test/labels/no_object_4_155.txt'), PosixPath('../data/splits/test/labels/no_object_4_156.txt'), PosixPath('../data/splits/test/labels/no_object_4_164.txt'), PosixPath('../data/splits/test/labels/no_object_4_166.txt'), PosixPath('../data/splits/test/labels/no_object_4_167.txt'), PosixPath('../data/splits/test/labels/no_object_4_168.txt'), PosixPath('../data/splits/test/labels/no_object_4_170.txt'), PosixPath('../data/splits/test/labels/no_object_4_178.txt'), PosixPath('../data/splits/test/labels/no_object_4_18.txt'), PosixPath('../data/splits/test/labels/no_object_4_183.txt'), PosixPath('../data/splits/test/labels/no_object_4_186.txt'), PosixPath('../data/splits/test/labels/no_object_4_190.txt'), PosixPath('../data/splits/test/labels/no_object_4_191.txt'), PosixPath('../data/splits/test/labels/no_object_4_200.txt'), PosixPath('../data/splits/test/labels/no_object_4_28.txt'), PosixPath('../data/splits/test/labels/no_object_4_29.txt'), PosixPath('../data/splits/test/labels/no_object_4_33.txt'), PosixPath('../data/splits/test/labels/no_object_4_34.txt'), PosixPath('../data/splits/test/labels/no_object_4_42.txt'), PosixPath('../data/splits/test/labels/no_object_4_6.txt'), PosixPath('../data/splits/test/labels/no_object_4_65.txt'), PosixPath('../data/splits/test/labels/no_object_4_79.txt'), PosixPath('../data/splits/test/labels/no_object_4_82.txt'), PosixPath('../data/splits/test/labels/no_object_4_84.txt'), PosixPath('../data/splits/test/labels/no_object_4_95.txt'), PosixPath('../data/splits/test/labels/no_object_4_99.txt'), PosixPath('../data/splits/test/labels/no_object_5_107.txt'), PosixPath('../data/splits/test/labels/no_object_5_121.txt'), PosixPath('../data/splits/test/labels/no_object_5_2.txt'), PosixPath('../data/splits/test/labels/no_object_5_39.txt'), PosixPath('../data/splits/test/labels/no_object_5_40.txt'), PosixPath('../data/splits/test/labels/no_object_5_49.txt'), PosixPath('../data/splits/test/labels/no_object_5_50.txt'), PosixPath('../data/splits/test/labels/no_object_5_69.txt'), PosixPath('../data/splits/test/labels/no_object_5_70.txt'), PosixPath('../data/splits/test/labels/no_object_5_76.txt'), PosixPath('../data/splits/test/labels/no_object_5_78.txt'), PosixPath('../data/splits/test/labels/no_object_5_85.txt'), PosixPath('../data/splits/test/labels/object_10_4.txt'), PosixPath('../data/splits/test/labels/object_10_40.txt'), PosixPath('../data/splits/test/labels/object_11_103.txt'), PosixPath('../data/splits/test/labels/object_11_106.txt'), PosixPath('../data/splits/test/labels/object_11_113.txt'), PosixPath('../data/splits/test/labels/object_11_119.txt'), PosixPath('../data/splits/test/labels/object_11_120.txt'), PosixPath('../data/splits/test/labels/object_11_123.txt'), PosixPath('../data/splits/test/labels/object_11_160.txt'), PosixPath('../data/splits/test/labels/object_11_164.txt'), PosixPath('../data/splits/test/labels/object_11_87.txt'), PosixPath('../data/splits/test/labels/object_12_109.txt'), PosixPath('../data/splits/test/labels/object_12_3.txt'), PosixPath('../data/splits/test/labels/object_12_30.txt'), PosixPath('../data/splits/test/labels/object_12_43.txt'), PosixPath('../data/splits/test/labels/object_12_5.txt'), PosixPath('../data/splits/test/labels/object_12_86.txt'), PosixPath('../data/splits/test/labels/object_13_14.txt'), PosixPath('../data/splits/test/labels/object_13_71.txt'), PosixPath('../data/splits/test/labels/object_13_83.txt'), PosixPath('../data/splits/test/labels/object_13_95.txt'), PosixPath('../data/splits/test/labels/object_14_21.txt'), PosixPath('../data/splits/test/labels/object_14_77.txt'), PosixPath('../data/splits/test/labels/object_14_82.txt'), PosixPath('../data/splits/test/labels/object_15_103.txt'), PosixPath('../data/splits/test/labels/object_16_112.txt'), PosixPath('../data/splits/test/labels/object_16_44.txt'), PosixPath('../data/splits/test/labels/object_16_45.txt'), PosixPath('../data/splits/test/labels/object_16_51.txt'), PosixPath('../data/splits/test/labels/object_16_83.txt'), PosixPath('../data/splits/test/labels/object_16_86.txt'), PosixPath('../data/splits/test/labels/object_17_91.txt'), PosixPath('../data/splits/test/labels/object_17_98.txt'), PosixPath('../data/splits/test/labels/object_18_107.txt'), PosixPath('../data/splits/test/labels/object_18_16.txt'), PosixPath('../data/splits/test/labels/object_18_37.txt'), PosixPath('../data/splits/test/labels/object_18_47.txt'), PosixPath('../data/splits/test/labels/object_18_59.txt'), PosixPath('../data/splits/test/labels/object_19_24.txt'), PosixPath('../data/splits/test/labels/object_19_48.txt'), PosixPath('../data/splits/test/labels/object_19_63.txt'), PosixPath('../data/splits/test/labels/object_1_2.txt'), PosixPath('../data/splits/test/labels/object_1_54.txt'), PosixPath('../data/splits/test/labels/object_20_1.txt'), PosixPath('../data/splits/test/labels/object_21_105.txt'), PosixPath('../data/splits/test/labels/object_21_21.txt'), PosixPath('../data/splits/test/labels/object_21_34.txt'), PosixPath('../data/splits/test/labels/object_21_49.txt'), PosixPath('../data/splits/test/labels/object_21_64.txt'), PosixPath('../data/splits/test/labels/object_21_77.txt'), PosixPath('../data/splits/test/labels/object_21_98.txt'), PosixPath('../data/splits/test/labels/object_2_29.txt'), PosixPath('../data/splits/test/labels/object_2_31.txt'), PosixPath('../data/splits/test/labels/object_2_53.txt'), PosixPath('../data/splits/test/labels/object_2_74.txt'), PosixPath('../data/splits/test/labels/object_3_4.txt'), PosixPath('../data/splits/test/labels/object_4_44.txt'), PosixPath('../data/splits/test/labels/object_4_51.txt'), PosixPath('../data/splits/test/labels/object_5_103.txt'), PosixPath('../data/splits/test/labels/object_5_116.txt'), PosixPath('../data/splits/test/labels/object_5_13.txt'), PosixPath('../data/splits/test/labels/object_5_135.txt'), PosixPath('../data/splits/test/labels/object_5_145.txt'), PosixPath('../data/splits/test/labels/object_5_2.txt'), PosixPath('../data/splits/test/labels/object_5_24.txt'), PosixPath('../data/splits/test/labels/object_5_56.txt'), PosixPath('../data/splits/test/labels/object_5_85.txt'), PosixPath('../data/splits/test/labels/object_6_37.txt'), PosixPath('../data/splits/test/labels/object_7_26.txt'), PosixPath('../data/splits/test/labels/object_8_39.txt'), PosixPath('../data/splits/test/labels/object_8_41.txt'), PosixPath('../data/splits/test/labels/object_8_5.txt'), PosixPath('../data/splits/test/labels/object_8_90.txt'), PosixPath('../data/splits/test/labels/object_9_118.txt'), PosixPath('../data/splits/test/labels/object_9_36.txt'), PosixPath('../data/splits/test/labels/object_9_60.txt'), PosixPath('../data/splits/test/labels/object_9_78.txt'), PosixPath('../data/splits/test/labels/object_9_90.txt')]\n"
     ]
    }
   ],
   "source": [
    "test_labels_path = '../data/splits/test/labels'\n",
    "test_labels = sorted(list(Path(test_labels_path).glob(\"*.txt\")))\n",
    "print(len(test_labels), test_labels)"
   ]
  },
  {
   "cell_type": "code",
   "execution_count": null,
   "id": "b98128d2",
   "metadata": {},
   "outputs": [
    {
     "name": "stdout",
     "output_type": "stream",
     "text": [
      "166 ['1', '1', '1', '1', '1', '1', '1', '1', '1', '1', '1', '1', '1', '1', '1', '1', '1', '1', '1', '1', '1', '1', '1', '1', '1', '1', '1', '1', '1', '1', '1', '1', '1', '1', '1', '1', '1', '1', '1', '1', '1', '1', '1', '1', '1', '1', '1', '1', '1', '1', '1', '1', '1', '1', '1', '1', '1', '1', '1', '1', '1', '1', '1', '1', '1', '1', '1', '1', '1', '1', '1', '1', '1', '1', '1', '1', '1', '1', '1', '1', '1', '1', '1', '1', '1', '1', '1', '1', '0', '0', '0', '0', '0', '0', '0', '0', '0', '0', '0', '0', '0', '0', '0', '0', '0', '0', '0', '0', '0', '0', '0', '0', '0', '0', '0', '0', '0', '0', '0', '0', '0', '0', '0', '0', '0', '0', '0', '0', '0', '0', '0', '0', '0', '0', '0', '0', '0', '0', '0', '0', '0', '0', '0', '0', '0', '0', '0', '0', '0', '0', '0', '0', '0', '0', '0', '0', '0', '0', '0', '0', '0', '0', '0', '0', '0', '0']\n"
     ]
    }
   ],
   "source": [
    "# get true labels\n",
    "test_labels_path = '../data/splits/test/labels'\n",
    "test_labels = sorted(list(Path(test_labels_path).glob(\"*.txt\")))\n",
    "labels = []\n",
    "for label_path in test_labels:\n",
    "    with open(label_path, 'r') as f:\n",
    "        labels.append(f.readline().strip().split()[0])  # first value\n",
    "print(len(labels), labels)"
   ]
  },
  {
   "cell_type": "markdown",
   "id": "8f16ddd7",
   "metadata": {},
   "source": [
    "⚠️ **Compute evaluation with traditional way would be slightly long code because of ``len(test_classes) > len(test_results)``.**\n",
    "Fortunately Yolo gives us helps to evaluate models with any dataset we want."
   ]
  },
  {
   "cell_type": "markdown",
   "id": "44169b9e",
   "metadata": {},
   "source": [
    "### **Evaluate model with binary classification metrics**"
   ]
  },
  {
   "cell_type": "markdown",
   "id": "6344e751",
   "metadata": {},
   "source": [
    "##### **Use Yolov8 to perform this model assessment with test split contained images never seen by validated model** "
   ]
  },
  {
   "cell_type": "code",
   "execution_count": 179,
   "id": "4aec9117",
   "metadata": {},
   "outputs": [
    {
     "name": "stdout",
     "output_type": "stream",
     "text": [
      "Ultralytics 8.3.139 🚀 Python-3.9.20 torch-2.7.0+cu126 CPU (Intel Core(TM) i7-8550U 1.80GHz)\n",
      "\u001b[34m\u001b[1mval: \u001b[0mFast image access ✅ (ping: 0.0±0.0 ms, read: 11.3±4.8 MB/s, size: 7.6 KB)\n"
     ]
    },
    {
     "name": "stderr",
     "output_type": "stream",
     "text": [
      "\u001b[34m\u001b[1mval: \u001b[0mScanning /home/nokan/code/donat-konan33/ClassificationWithTransferlearning/data/splits/test/labels... 166 images, 0 backgrounds, 0 corrupt: 100%|██████████| 166/166 [00:00<00:00, 454.82it/s]"
     ]
    },
    {
     "name": "stdout",
     "output_type": "stream",
     "text": [
      "\u001b[34m\u001b[1mval: \u001b[0mNew cache created: /home/nokan/code/donat-konan33/ClassificationWithTransferlearning/data/splits/test/labels.cache\n"
     ]
    },
    {
     "name": "stderr",
     "output_type": "stream",
     "text": [
      "\n",
      "/home/nokan/code/donat-konan33/ClassificationWithTransferlearning/.venv/lib/python3.9/site-packages/torch/utils/data/dataloader.py:665: UserWarning: 'pin_memory' argument is set as true but no accelerator is found, then device pinned memory won't be used.\n",
      "  warnings.warn(warn_msg)\n",
      "                 Class     Images  Instances      Box(P          R      mAP50  mAP50-95): 100%|██████████| 11/11 [00:22<00:00,  2.07s/it]\n"
     ]
    },
    {
     "name": "stdout",
     "output_type": "stream",
     "text": [
      "                   all        166        166       0.97      0.945      0.977      0.977\n",
      "                object         78         78      0.996      0.923      0.966      0.966\n",
      "             no_object         88         88      0.944      0.966      0.989      0.989\n",
      "Speed: 3.2ms preprocess, 125.6ms inference, 0.0ms loss, 0.7ms postprocess per image\n",
      "Results saved to \u001b[1m../results/figures/test_metrics\u001b[0m\n"
     ]
    }
   ],
   "source": [
    "# where to save the figures\n",
    "project_path = \"../results/figures\"\n",
    "metrics = model.val(data=data_path, split=\"test\", conf=0.25, save=True,\n",
    "                     project=project_path, name=\"test_metrics\")"
   ]
  },
  {
   "cell_type": "code",
   "execution_count": 183,
   "id": "68bf7558",
   "metadata": {},
   "outputs": [
    {
     "name": "stdout",
     "output_type": "stream",
     "text": [
      "0.9774519217629978\n",
      "0.9774519217629976\n",
      "0.9774519217629976\n",
      "[    0.96607     0.98883]\n"
     ]
    }
   ],
   "source": [
    "print(metrics.box.map)  # map50-95\n",
    "print(metrics.box.map50)  # map50\n",
    "print(metrics.box.map75)  # map75\n",
    "print(metrics.box.maps)  # a list contains map50-95 of each category"
   ]
  },
  {
   "cell_type": "code",
   "execution_count": 217,
   "id": "5cc1047e",
   "metadata": {},
   "outputs": [],
   "source": [
    "evaluating_curves_root = \"../results/figures/test_metrics\"\n",
    "R_curve = evaluating_curves_root + \"/R_curve.png\"\n",
    "PR_curve = evaluating_curves_root + \"/PR_curve.png\"\n",
    "P_curve = evaluating_curves_root + \"/P_curve.png\"\n",
    "F1_curve = evaluating_curves_root + \"/F1_curve.png\"\n",
    "confusion_matrix = evaluating_curves_root + \"/confusion_matrix.png\""
   ]
  },
  {
   "cell_type": "code",
   "execution_count": 233,
   "id": "d20b9550",
   "metadata": {},
   "outputs": [],
   "source": [
    "from typing import Optional"
   ]
  },
  {
   "cell_type": "code",
   "execution_count": 223,
   "id": "b61a2c3d",
   "metadata": {},
   "outputs": [],
   "source": [
    "# plot curves functions with input list of paths to display on a subplot\n",
    "def plot_curves(curves: list, title: Optional[str] = None):\n",
    "    \"\"\"\n",
    "    Plot the curves on a subplot.\n",
    "    :param curves: list of paths to the curves\n",
    "    :param title: title of the plot\n",
    "    :return: None\n",
    "    \"\"\"\n",
    "    import matplotlib.pyplot as plt\n",
    "    import math\n",
    "    num_curves = len(curves)\n",
    "    cols = 2\n",
    "    rows = math.ceil(num_curves / cols)\n",
    "    plt.figure(figsize=(15, 5 * rows))\n",
    "    for i, curve in enumerate(curves):\n",
    "        image = cv2.imread(curve)\n",
    "        plt.subplot(rows, cols, i + 1)\n",
    "        plt.imshow(image)\n",
    "        plt.axis(\"off\")\n",
    "        plt.title(curve.split(\"/\")[-1].split(\".\")[0], fontsize=20,\n",
    "                  fontweight=\"bold\", loc=\"center\")\n",
    "    if title:\n",
    "        plt.suptitle(title, fontsize=25, fontweight=\"bold\")\n",
    "    plt.tight_layout()\n",
    "    plt.show()\n"
   ]
  },
  {
   "cell_type": "markdown",
   "id": "03f2ecaa",
   "metadata": {},
   "source": [
    "##### **Confusion matrix**\n"
   ]
  },
  {
   "cell_type": "code",
   "execution_count": 229,
   "id": "c5d4eba3",
   "metadata": {},
   "outputs": [
    {
     "data": {
      "image/png": "[encoded data removed]",
      "text/plain": [
       "<Figure size 1500x500 with 1 Axes>"
      ]
     },
     "metadata": {},
     "output_type": "display_data"
    }
   ],
   "source": [
    "plot_curves([confusion_matrix,])"
   ]
  },
  {
   "cell_type": "markdown",
   "id": "400f6525",
   "metadata": {},
   "source": [
    "##### **P_Curve and R_Curve (Sensitivity)**\n"
   ]
  },
  {
   "cell_type": "code",
   "execution_count": 231,
   "id": "ec44ea35",
   "metadata": {},
   "outputs": [
    {
     "data": {
      "image/png": "[encoded data removed]",
      "text/plain": [
       "<Figure size 1500x500 with 2 Axes>"
      ]
     },
     "metadata": {},
     "output_type": "display_data"
    }
   ],
   "source": [
    "plot_curves([R_curve, P_curve], title=\"Precision and Recall Curves\")"
   ]
  },
  {
   "cell_type": "markdown",
   "id": "86eed1a5",
   "metadata": {},
   "source": [
    "\n",
    "##### **F1-SCORE**"
   ]
  },
  {
   "cell_type": "code",
   "execution_count": 228,
   "id": "ca6f11b6",
   "metadata": {},
   "outputs": [
    {
     "data": {
      "image/png": "[encoded data removed]",
      "text/plain": [
       "<Figure size 1500x500 with 2 Axes>"
      ]
     },
     "metadata": {},
     "output_type": "display_data"
    }
   ],
   "source": [
    "plot_curves([F1_curve, PR_curve], title=\"F1 and Precision-Recall Curves\")"
   ]
  },
  {
   "cell_type": "markdown",
   "id": "7d03063b",
   "metadata": {},
   "source": [
    "## **Summary**"
   ]
  },
  {
   "cell_type": "markdown",
   "id": "ccd138c5",
   "metadata": {},
   "source": [
    "The use of deep learning with YOLO has proven to be highly effective for our use case of automatic hidden object detection. The results are excellent: the ``F1-score and the Precision-Recall curve are close to 1, indicating very good prediction and object detection performance``. This model could therefore be used in practice for the detection of multiple objects, for example in the fight against fraud, especially with images from Terahertz technology. The model was able to detect objects in images with a high level of detail, which is important for applications in the field of Terahertz imaging.\n",
    "\n",
    "However, adapting the model to our ``dataset of 771 images (size 640 x 640) for scientific specialization`` was very time-consuming, with a computation time of 8.28 hours on CPU for 100 epochs.\n",
    "\n",
    "Three approaches can be considered to improve this computation time while maintaining prediction performance:\n",
    "- Use a GPU, for example via the Google Colab platform which offers GPU rental; \n",
    "- Employ optimization techniques such as reducing the size or dimensionality of images (for example with Principal Component Analysis, PCA);\n",
    "- Extract features to focus on relevant elements without noises;\n",
    "- Apply transfer learning only to the convolutional layers of YOLO.\n",
    "\n",
    "In all cases, YOLO seems to be able to detect patterns from Terahertz Imaging, which is a promising avenue for future research.\n",
    "\n"
   ]
  }
 ],
 "metadata": {
  "kernelspec": {
   "display_name": "classificationwithtransferlearning-py3.9",
   "language": "python",
   "name": "python3"
  },
  "language_info": {
   "codemirror_mode": {
    "name": "ipython",
    "version": 3
   },
   "file_extension": ".py",
   "mimetype": "text/x-python",
   "name": "python",
   "nbconvert_exporter": "python",
   "pygments_lexer": "ipython3",
   "version": "3.9.20"
  }
 },
 "nbformat": 4,
 "nbformat_minor": 5
}
